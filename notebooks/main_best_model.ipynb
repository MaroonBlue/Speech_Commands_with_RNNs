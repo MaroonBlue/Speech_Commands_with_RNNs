{
  "cells": [
    {
      "cell_type": "markdown",
      "metadata": {
        "colab_type": "text",
        "id": "view-in-github"
      },
      "source": [
        "<a href=\"https://colab.research.google.com/github/MaroonBlue/Speech_Commands_with_RNNs/blob/main/main_best_model.ipynb\" target=\"_parent\"><img src=\"https://colab.research.google.com/assets/colab-badge.svg\" alt=\"Open In Colab\"/></a>"
      ]
    },
    {
      "cell_type": "markdown",
      "metadata": {
        "id": "Si2Uk1xlJmqZ"
      },
      "source": [
        "# Environment setup"
      ]
    },
    {
      "cell_type": "markdown",
      "metadata": {
        "id": "U3yOj5hKKM2r"
      },
      "source": [
        "## Cloning repository"
      ]
    },
    {
      "cell_type": "code",
      "execution_count": 1,
      "metadata": {
        "colab": {
          "base_uri": "https://localhost:8080/"
        },
        "id": "FaE53h2rG-9Y",
        "outputId": "c7de7a2e-6d0f-49a4-a7e0-511b4d6c5a47"
      },
      "outputs": [
        {
          "name": "stdout",
          "output_type": "stream",
          "text": [
            "/content\n",
            "rm: cannot remove './Speech_Commands_with_RNNs/': No such file or directory\n",
            "Cloning into 'Speech_Commands_with_RNNs'...\n",
            "remote: Enumerating objects: 300, done.\u001b[K\n",
            "remote: Counting objects: 100% (87/87), done.\u001b[K\n",
            "remote: Compressing objects: 100% (57/57), done.\u001b[K\n",
            "remote: Total 300 (delta 48), reused 60 (delta 30), pack-reused 213\u001b[K\n",
            "Receiving objects: 100% (300/300), 1.40 MiB | 10.01 MiB/s, done.\n",
            "Resolving deltas: 100% (169/169), done.\n",
            "/content/Speech_Commands_with_RNNs\n"
          ]
        }
      ],
      "source": [
        "%cd /content/\n",
        "!rm -r ./Speech_Commands_with_RNNs/\n",
        "!git clone https://github.com/MaroonBlue/Speech_Commands_with_RNNs.git\n",
        "%cd Speech_Commands_with_RNNs/"
      ]
    },
    {
      "cell_type": "markdown",
      "metadata": {
        "id": "SC7iDRhkKQ0B"
      },
      "source": [
        "## Installing packages"
      ]
    },
    {
      "cell_type": "code",
      "execution_count": 2,
      "metadata": {
        "colab": {
          "base_uri": "https://localhost:8080/"
        },
        "id": "S5dENBAmHRNl",
        "outputId": "191c3330-2dd1-448b-d518-97421a86dd7d"
      },
      "outputs": [
        {
          "name": "stdout",
          "output_type": "stream",
          "text": [
            "Looking in indexes: https://pypi.org/simple, https://us-python.pkg.dev/colab-wheels/public/simple/\n",
            "Requirement already satisfied: absl-py in /usr/local/lib/python3.9/dist-packages (from -r requirements.txt (line 1)) (1.4.0)\n",
            "Requirement already satisfied: appdirs in /usr/local/lib/python3.9/dist-packages (from -r requirements.txt (line 2)) (1.4.4)\n",
            "Collecting array-record\n",
            "  Downloading array_record-0.2.0-py39-none-any.whl (3.0 MB)\n",
            "\u001b[?25l     \u001b[90m━━━━━━━━━━━━━━━━━━━━━━━━━━━━━━━━━━━━━━━━\u001b[0m \u001b[32m0.0/3.0 MB\u001b[0m \u001b[31m?\u001b[0m eta \u001b[36m-:--:--\u001b[0m\r\u001b[2K     \u001b[91m━━━━━\u001b[0m\u001b[90m╺\u001b[0m\u001b[90m━━━━━━━━━━━━━━━━━━━━━━━━━━━━━━━━━━\u001b[0m \u001b[32m0.4/3.0 MB\u001b[0m \u001b[31m12.1 MB/s\u001b[0m eta \u001b[36m0:00:01\u001b[0m\r\u001b[2K     \u001b[91m━━━━━━━━━━━━━━━━━━━━━━━━━━━━━━━━━━━━━━━\u001b[0m\u001b[91m╸\u001b[0m \u001b[32m3.0/3.0 MB\u001b[0m \u001b[31m47.5 MB/s\u001b[0m eta \u001b[36m0:00:01\u001b[0m\r\u001b[2K     \u001b[90m━━━━━━━━━━━━━━━━━━━━━━━━━━━━━━━━━━━━━━━━\u001b[0m \u001b[32m3.0/3.0 MB\u001b[0m \u001b[31m36.2 MB/s\u001b[0m eta \u001b[36m0:00:00\u001b[0m\n",
            "\u001b[?25hRequirement already satisfied: astunparse in /usr/local/lib/python3.9/dist-packages (from -r requirements.txt (line 4)) (1.6.3)\n",
            "Requirement already satisfied: audioread in /usr/local/lib/python3.9/dist-packages (from -r requirements.txt (line 5)) (3.0.0)\n",
            "Requirement already satisfied: cachetools in /usr/local/lib/python3.9/dist-packages (from -r requirements.txt (line 6)) (5.3.0)\n",
            "Requirement already satisfied: certifi in /usr/local/lib/python3.9/dist-packages (from -r requirements.txt (line 7)) (2022.12.7)\n",
            "Requirement already satisfied: cffi in /usr/local/lib/python3.9/dist-packages (from -r requirements.txt (line 8)) (1.15.1)\n",
            "Requirement already satisfied: charset-normalizer in /usr/local/lib/python3.9/dist-packages (from -r requirements.txt (line 9)) (2.0.12)\n",
            "Requirement already satisfied: click in /usr/local/lib/python3.9/dist-packages (from -r requirements.txt (line 10)) (8.1.3)\n",
            "Collecting colorama\n",
            "  Downloading colorama-0.4.6-py2.py3-none-any.whl (25 kB)\n",
            "Requirement already satisfied: decorator in /usr/local/lib/python3.9/dist-packages (from -r requirements.txt (line 12)) (4.4.2)\n",
            "Requirement already satisfied: dm-tree in /usr/local/lib/python3.9/dist-packages (from -r requirements.txt (line 13)) (0.1.8)\n",
            "Collecting docker-pycreds\n",
            "  Downloading docker_pycreds-0.4.0-py2.py3-none-any.whl (9.0 kB)\n",
            "Collecting EasyProcess\n",
            "  Downloading EasyProcess-1.1-py3-none-any.whl (8.7 kB)\n",
            "Collecting einops\n",
            "  Downloading einops-0.6.1-py3-none-any.whl (42 kB)\n",
            "\u001b[2K     \u001b[90m━━━━━━━━━━━━━━━━━━━━━━━━━━━━━━━━━━━━━━━━\u001b[0m \u001b[32m42.2/42.2 kB\u001b[0m \u001b[31m3.7 MB/s\u001b[0m eta \u001b[36m0:00:00\u001b[0m\n",
            "\u001b[?25hCollecting entrypoint2\n",
            "  Downloading entrypoint2-1.1-py2.py3-none-any.whl (9.9 kB)\n",
            "Requirement already satisfied: etils in /usr/local/lib/python3.9/dist-packages (from -r requirements.txt (line 18)) (1.2.0)\n",
            "Requirement already satisfied: flatbuffers in /usr/local/lib/python3.9/dist-packages (from -r requirements.txt (line 19)) (23.3.3)\n",
            "Requirement already satisfied: gast in /usr/local/lib/python3.9/dist-packages (from -r requirements.txt (line 20)) (0.4.0)\n",
            "Collecting gitdb\n",
            "  Downloading gitdb-4.0.10-py3-none-any.whl (62 kB)\n",
            "\u001b[2K     \u001b[90m━━━━━━━━━━━━━━━━━━━━━━━━━━━━━━━━━━━━━━━━\u001b[0m \u001b[32m62.7/62.7 kB\u001b[0m \u001b[31m8.2 MB/s\u001b[0m eta \u001b[36m0:00:00\u001b[0m\n",
            "\u001b[?25hCollecting GitPython\n",
            "  Downloading GitPython-3.1.31-py3-none-any.whl (184 kB)\n",
            "\u001b[2K     \u001b[90m━━━━━━━━━━━━━━━━━━━━━━━━━━━━━━━━━━━━━━\u001b[0m \u001b[32m184.3/184.3 kB\u001b[0m \u001b[31m23.3 MB/s\u001b[0m eta \u001b[36m0:00:00\u001b[0m\n",
            "\u001b[?25hRequirement already satisfied: google-auth in /usr/local/lib/python3.9/dist-packages (from -r requirements.txt (line 23)) (2.17.3)\n",
            "Requirement already satisfied: google-auth-oauthlib in /usr/local/lib/python3.9/dist-packages (from -r requirements.txt (line 24)) (1.0.0)\n",
            "Requirement already satisfied: google-pasta in /usr/local/lib/python3.9/dist-packages (from -r requirements.txt (line 25)) (0.2.0)\n",
            "Requirement already satisfied: googleapis-common-protos in /usr/local/lib/python3.9/dist-packages (from -r requirements.txt (line 26)) (1.59.0)\n",
            "Requirement already satisfied: grpcio in /usr/local/lib/python3.9/dist-packages (from -r requirements.txt (line 27)) (1.53.0)\n",
            "Requirement already satisfied: h5py in /usr/local/lib/python3.9/dist-packages (from -r requirements.txt (line 28)) (3.8.0)\n",
            "Requirement already satisfied: idna in /usr/local/lib/python3.9/dist-packages (from -r requirements.txt (line 29)) (3.4)\n",
            "Requirement already satisfied: importlib-metadata in /usr/local/lib/python3.9/dist-packages (from -r requirements.txt (line 30)) (6.4.1)\n",
            "Requirement already satisfied: importlib-resources in /usr/local/lib/python3.9/dist-packages (from -r requirements.txt (line 31)) (5.12.0)\n",
            "Requirement already satisfied: jax in /usr/local/lib/python3.9/dist-packages (from -r requirements.txt (line 32)) (0.4.8)\n",
            "Requirement already satisfied: joblib in /usr/local/lib/python3.9/dist-packages (from -r requirements.txt (line 33)) (1.2.0)\n",
            "Collecting kapre\n",
            "  Downloading kapre-0.3.7.tar.gz (26 kB)\n",
            "  Installing build dependencies ... \u001b[?25l\u001b[?25hdone\n",
            "  Getting requirements to build wheel ... \u001b[?25l\u001b[?25hdone\n",
            "  Preparing metadata (pyproject.toml) ... \u001b[?25l\u001b[?25hdone\n",
            "Requirement already satisfied: keras in /usr/local/lib/python3.9/dist-packages (from -r requirements.txt (line 35)) (2.12.0)\n",
            "Requirement already satisfied: lazy_loader in /usr/local/lib/python3.9/dist-packages (from -r requirements.txt (line 36)) (0.2)\n",
            "Requirement already satisfied: libclang in /usr/local/lib/python3.9/dist-packages (from -r requirements.txt (line 37)) (16.0.0)\n",
            "Requirement already satisfied: librosa in /usr/local/lib/python3.9/dist-packages (from -r requirements.txt (line 38)) (0.10.0.post2)\n",
            "Requirement already satisfied: llvmlite in /usr/local/lib/python3.9/dist-packages (from -r requirements.txt (line 39)) (0.39.1)\n",
            "Requirement already satisfied: Markdown in /usr/local/lib/python3.9/dist-packages (from -r requirements.txt (line 40)) (3.4.3)\n",
            "Requirement already satisfied: MarkupSafe in /usr/local/lib/python3.9/dist-packages (from -r requirements.txt (line 41)) (2.1.2)\n",
            "Requirement already satisfied: ml-dtypes in /usr/local/lib/python3.9/dist-packages (from -r requirements.txt (line 42)) (0.1.0)\n",
            "Requirement already satisfied: msgpack in /usr/local/lib/python3.9/dist-packages (from -r requirements.txt (line 43)) (1.0.5)\n",
            "Requirement already satisfied: numba in /usr/local/lib/python3.9/dist-packages (from -r requirements.txt (line 44)) (0.56.4)\n",
            "Requirement already satisfied: numpy in /usr/local/lib/python3.9/dist-packages (from -r requirements.txt (line 45)) (1.22.4)\n",
            "Requirement already satisfied: oauthlib in /usr/local/lib/python3.9/dist-packages (from -r requirements.txt (line 46)) (3.2.2)\n",
            "Requirement already satisfied: opt-einsum in /usr/local/lib/python3.9/dist-packages (from -r requirements.txt (line 47)) (3.3.0)\n",
            "Requirement already satisfied: packaging in /usr/local/lib/python3.9/dist-packages (from -r requirements.txt (line 48)) (23.1)\n",
            "Requirement already satisfied: pandas in /usr/local/lib/python3.9/dist-packages (from -r requirements.txt (line 49)) (1.5.3)\n",
            "Collecting pathtools\n",
            "  Downloading pathtools-0.1.2.tar.gz (11 kB)\n",
            "  Preparing metadata (setup.py) ... \u001b[?25l\u001b[?25hdone\n",
            "Collecting patool\n",
            "  Downloading patool-1.12-py2.py3-none-any.whl (77 kB)\n",
            "\u001b[2K     \u001b[90m━━━━━━━━━━━━━━━━━━━━━━━━━━━━━━━━━━━━━━━━\u001b[0m \u001b[32m77.5/77.5 kB\u001b[0m \u001b[31m9.5 MB/s\u001b[0m eta \u001b[36m0:00:00\u001b[0m\n",
            "\u001b[?25hRequirement already satisfied: pooch in /usr/local/lib/python3.9/dist-packages (from -r requirements.txt (line 52)) (1.6.0)\n",
            "Requirement already satisfied: promise in /usr/local/lib/python3.9/dist-packages (from -r requirements.txt (line 53)) (2.3)\n",
            "Requirement already satisfied: protobuf in /usr/local/lib/python3.9/dist-packages (from -r requirements.txt (line 54)) (3.20.3)\n",
            "Requirement already satisfied: psutil in /usr/local/lib/python3.9/dist-packages (from -r requirements.txt (line 55)) (5.9.5)\n",
            "Requirement already satisfied: pyasn1 in /usr/local/lib/python3.9/dist-packages (from -r requirements.txt (line 56)) (0.4.8)\n",
            "Requirement already satisfied: pyasn1-modules in /usr/local/lib/python3.9/dist-packages (from -r requirements.txt (line 57)) (0.2.8)\n",
            "Requirement already satisfied: pycparser in /usr/local/lib/python3.9/dist-packages (from -r requirements.txt (line 58)) (2.21)\n",
            "Requirement already satisfied: python-dateutil in /usr/local/lib/python3.9/dist-packages (from -r requirements.txt (line 59)) (2.8.2)\n",
            "Requirement already satisfied: pytz in /usr/local/lib/python3.9/dist-packages (from -r requirements.txt (line 60)) (2022.7.1)\n",
            "Collecting pyunpack\n",
            "  Downloading pyunpack-0.3-py2.py3-none-any.whl (4.1 kB)\n",
            "Requirement already satisfied: PyYAML in /usr/local/lib/python3.9/dist-packages (from -r requirements.txt (line 62)) (6.0)\n",
            "Requirement already satisfied: requests in /usr/local/lib/python3.9/dist-packages (from -r requirements.txt (line 63)) (2.27.1)\n",
            "Requirement already satisfied: requests-oauthlib in /usr/local/lib/python3.9/dist-packages (from -r requirements.txt (line 64)) (1.3.1)\n",
            "Requirement already satisfied: rsa in /usr/local/lib/python3.9/dist-packages (from -r requirements.txt (line 65)) (4.9)\n",
            "Requirement already satisfied: scikit-learn in /usr/local/lib/python3.9/dist-packages (from -r requirements.txt (line 66)) (1.2.2)\n",
            "Requirement already satisfied: scipy in /usr/local/lib/python3.9/dist-packages (from -r requirements.txt (line 67)) (1.10.1)\n",
            "Collecting sentry-sdk\n",
            "  Downloading sentry_sdk-1.20.0-py2.py3-none-any.whl (198 kB)\n",
            "\u001b[2K     \u001b[90m━━━━━━━━━━━━━━━━━━━━━━━━━━━━━━━━━━━━━━\u001b[0m \u001b[32m198.8/198.8 kB\u001b[0m \u001b[31m17.1 MB/s\u001b[0m eta \u001b[36m0:00:00\u001b[0m\n",
            "\u001b[?25hCollecting setproctitle\n",
            "  Downloading setproctitle-1.3.2-cp39-cp39-manylinux_2_5_x86_64.manylinux1_x86_64.manylinux_2_17_x86_64.manylinux2014_x86_64.whl (30 kB)\n",
            "Requirement already satisfied: six in /usr/local/lib/python3.9/dist-packages (from -r requirements.txt (line 70)) (1.16.0)\n",
            "Collecting smmap\n",
            "  Downloading smmap-5.0.0-py3-none-any.whl (24 kB)\n",
            "Requirement already satisfied: soundfile in /usr/local/lib/python3.9/dist-packages (from -r requirements.txt (line 72)) (0.12.1)\n",
            "Requirement already satisfied: soxr in /usr/local/lib/python3.9/dist-packages (from -r requirements.txt (line 73)) (0.3.5)\n",
            "Requirement already satisfied: termcolor in /usr/local/lib/python3.9/dist-packages (from -r requirements.txt (line 74)) (2.2.0)\n",
            "Requirement already satisfied: threadpoolctl in /usr/local/lib/python3.9/dist-packages (from -r requirements.txt (line 75)) (3.1.0)\n",
            "Requirement already satisfied: toml in /usr/local/lib/python3.9/dist-packages (from -r requirements.txt (line 76)) (0.10.2)\n",
            "Requirement already satisfied: tqdm in /usr/local/lib/python3.9/dist-packages (from -r requirements.txt (line 77)) (4.65.0)\n",
            "Requirement already satisfied: typing_extensions in /usr/local/lib/python3.9/dist-packages (from -r requirements.txt (line 78)) (4.5.0)\n",
            "Requirement already satisfied: tzdata in /usr/local/lib/python3.9/dist-packages (from -r requirements.txt (line 79)) (2023.3)\n",
            "Requirement already satisfied: urllib3 in /usr/local/lib/python3.9/dist-packages (from -r requirements.txt (line 80)) (1.26.15)\n",
            "Collecting wandb\n",
            "  Downloading wandb-0.15.0-py3-none-any.whl (2.0 MB)\n",
            "\u001b[2K     \u001b[90m━━━━━━━━━━━━━━━━━━━━━━━━━━━━━━━━━━━━━━━━\u001b[0m \u001b[32m2.0/2.0 MB\u001b[0m \u001b[31m65.8 MB/s\u001b[0m eta \u001b[36m0:00:00\u001b[0m\n",
            "\u001b[?25hRequirement already satisfied: Werkzeug in /usr/local/lib/python3.9/dist-packages (from -r requirements.txt (line 82)) (2.2.3)\n",
            "Requirement already satisfied: wrapt in /usr/local/lib/python3.9/dist-packages (from -r requirements.txt (line 83)) (1.14.1)\n",
            "Requirement already satisfied: zipp in /usr/local/lib/python3.9/dist-packages (from -r requirements.txt (line 84)) (3.15.0)\n",
            "Requirement already satisfied: wheel<1.0,>=0.23.0 in /usr/local/lib/python3.9/dist-packages (from astunparse->-r requirements.txt (line 4)) (0.40.0)\n",
            "Requirement already satisfied: tensorflow>=2.0.0 in /usr/local/lib/python3.9/dist-packages (from kapre->-r requirements.txt (line 34)) (2.12.0)\n",
            "Requirement already satisfied: setuptools in /usr/local/lib/python3.9/dist-packages (from numba->-r requirements.txt (line 44)) (67.7.1)\n",
            "Requirement already satisfied: tensorflow-io-gcs-filesystem>=0.23.1 in /usr/local/lib/python3.9/dist-packages (from tensorflow>=2.0.0->kapre->-r requirements.txt (line 34)) (0.32.0)\n",
            "Requirement already satisfied: tensorboard<2.13,>=2.12 in /usr/local/lib/python3.9/dist-packages (from tensorflow>=2.0.0->kapre->-r requirements.txt (line 34)) (2.12.2)\n",
            "Requirement already satisfied: tensorflow-estimator<2.13,>=2.12.0 in /usr/local/lib/python3.9/dist-packages (from tensorflow>=2.0.0->kapre->-r requirements.txt (line 34)) (2.12.0)\n",
            "Requirement already satisfied: tensorboard-data-server<0.8.0,>=0.7.0 in /usr/local/lib/python3.9/dist-packages (from tensorboard<2.13,>=2.12->tensorflow>=2.0.0->kapre->-r requirements.txt (line 34)) (0.7.0)\n",
            "Requirement already satisfied: tensorboard-plugin-wit>=1.6.0 in /usr/local/lib/python3.9/dist-packages (from tensorboard<2.13,>=2.12->tensorflow>=2.0.0->kapre->-r requirements.txt (line 34)) (1.8.1)\n",
            "Building wheels for collected packages: kapre, pathtools\n",
            "  Building wheel for kapre (pyproject.toml) ... \u001b[?25l\u001b[?25hdone\n",
            "  Created wheel for kapre: filename=kapre-0.3.7-py3-none-any.whl size=29623 sha256=0de154589da7641d7d1a0603b3f80c7df10c28c8e1e245f60f93512224384310\n",
            "  Stored in directory: /root/.cache/pip/wheels/b3/04/6b/a7c14b363e7942dad0706127cbf5b5817e51010175fda9026a\n",
            "  Building wheel for pathtools (setup.py) ... \u001b[?25l\u001b[?25hdone\n",
            "  Created wheel for pathtools: filename=pathtools-0.1.2-py3-none-any.whl size=8807 sha256=c194df9113e1d817451082bb0b4a829317100a9d9c24b683db6675d7f886b217\n",
            "  Stored in directory: /root/.cache/pip/wheels/b7/0a/67/ada2a22079218c75a88361c0782855cc72aebc4d18d0289d05\n",
            "Successfully built kapre pathtools\n",
            "Installing collected packages: patool, pathtools, entrypoint2, EasyProcess, smmap, setproctitle, sentry-sdk, pyunpack, einops, docker-pycreds, colorama, gitdb, GitPython, array-record, wandb, kapre\n",
            "Successfully installed EasyProcess-1.1 GitPython-3.1.31 array-record-0.2.0 colorama-0.4.6 docker-pycreds-0.4.0 einops-0.6.1 entrypoint2-1.1 gitdb-4.0.10 kapre-0.3.7 pathtools-0.1.2 patool-1.12 pyunpack-0.3 sentry-sdk-1.20.0 setproctitle-1.3.2 smmap-5.0.0 wandb-0.15.0\n",
            "\u001b[2K     \u001b[90m━━━━━━━━━━━━━━━━━━━━━━━━━━━━━━━━━━━━━━━━\u001b[0m \u001b[32m5.4/5.4 MB\u001b[0m \u001b[31m49.5 MB/s\u001b[0m eta \u001b[36m0:00:00\u001b[0m\n",
            "\u001b[?25h"
          ]
        }
      ],
      "source": [
        "!pip install -r requirements.txt\n",
        "!pip install -U -q tensorflow tensorflow_datasets"
      ]
    },
    {
      "cell_type": "markdown",
      "metadata": {
        "id": "1wkIdcudKXIa"
      },
      "source": [
        "# Downloading dataset"
      ]
    },
    {
      "cell_type": "markdown",
      "metadata": {
        "id": "-YZwwC0Bdv_Q"
      },
      "source": [
        "## Download form URL"
      ]
    },
    {
      "cell_type": "code",
      "execution_count": 3,
      "metadata": {
        "colab": {
          "base_uri": "https://localhost:8080/"
        },
        "id": "Rew8dJE4HwHs",
        "outputId": "a73df51d-b6e6-4ca3-f5c9-c66db5653ce2"
      },
      "outputs": [
        {
          "name": "stdout",
          "output_type": "stream",
          "text": [
            "2023-04-25 08:25:21.519358: I tensorflow/core/platform/cpu_feature_guard.cc:182] This TensorFlow binary is optimized to use available CPU instructions in performance-critical operations.\n",
            "To enable the following instructions: AVX2 FMA, in other operations, rebuild TensorFlow with the appropriate compiler flags.\n",
            "2023-04-25 08:25:22.464756: W tensorflow/compiler/tf2tensorrt/utils/py_utils.cc:38] TF-TRT Warning: Could not find TensorRT\n",
            "Downloading data from https://storage.googleapis.com/kagglesdsdata/competitions/7634/46676/train.7z?GoogleAccessId=web-data@kaggle-161607.iam.gserviceaccount.com&Expires=1682509177&Signature=jTadfpVkkZ2N5%2F8ExD7l5lB3sMxRPoteX6WbArpcnr%2BLyqb%2BW9ls4TvgszlpwgKS3KFVe3SuO6EC7jv5W%2FTPB935Vj6FRVZbg97NJlJwEusK2eggn%2FdVZNYEwEVO%2BcfoSZB4HQ3wGuo3oHO5OVVpWSCwgdxOZ%2B8fDjHf9r0oUUvc3EoF4B4pyw7b9jCpjxUG4UoKFNOoWH1ckXwilqK9lMS5paJYfF1Wja0HL2tcRPiHW2m9ooGrzGEL5pYdMYjucuohLTnt%2BJ5qV71CETkbamDsQsZ4GSqlUsK4yeGu1iY2CsJ8AswA%2FL8Zi2qHyi480%2BBzJn1XQJNslKeSA1MDmQ%3D%3D&response-content-disposition=attachment%3B+filename%3Dtrain.7z\n",
            "1121103842/1121103842 [==============================] - 23s 0us/step\n",
            "Moved 6798 files to the validation directory\n",
            "Moved 6835 files to the test directory\n"
          ]
        }
      ],
      "source": [
        "!python utils/download_dataset.py"
      ]
    },
    {
      "cell_type": "markdown",
      "metadata": {
        "id": "MQH9lVpL4uUq"
      },
      "source": [
        "## Generate and save training and validation data"
      ]
    },
    {
      "cell_type": "code",
      "execution_count": 4,
      "metadata": {
        "colab": {
          "base_uri": "https://localhost:8080/"
        },
        "id": "4WpOD62u4w_8",
        "outputId": "4fbd534c-c97c-4d17-b081-58e3b95498f9"
      },
      "outputs": [
        {
          "name": "stdout",
          "output_type": "stream",
          "text": [
            "2023-04-25 08:27:30.586839: I tensorflow/core/platform/cpu_feature_guard.cc:182] This TensorFlow binary is optimized to use available CPU instructions in performance-critical operations.\n",
            "To enable the following instructions: AVX2 FMA, in other operations, rebuild TensorFlow with the appropriate compiler flags.\n",
            "2023-04-25 08:27:32.049021: W tensorflow/compiler/tf2tensorrt/utils/py_utils.cc:38] TF-TRT Warning: Could not find TensorRT\n",
            "Training dataset: 100% 22536/22536 [04:40<00:00, 80.45it/s]\n",
            "Validation dataset: 100% 6798/6798 [01:08<00:00, 99.90it/s] \n",
            "\u001b[0m"
          ]
        }
      ],
      "source": [
        "!python ./utils/dataset.py"
      ]
    },
    {
      "cell_type": "markdown",
      "metadata": {
        "id": "eSh7yQLu5Cxp"
      },
      "source": [
        "## Copy .npy files to drive"
      ]
    },
    {
      "cell_type": "markdown",
      "metadata": {
        "id": "xLTQkrTotVaI"
      },
      "source": []
    },
    {
      "cell_type": "markdown",
      "metadata": {
        "id": "RIIqyrd5Y5iq"
      },
      "source": [
        "## Copy from local"
      ]
    },
    {
      "cell_type": "code",
      "execution_count": 6,
      "metadata": {
        "id": "DCMQ5JhhY7fM"
      },
      "outputs": [],
      "source": [
        "!cp -R data ../data"
      ]
    },
    {
      "cell_type": "code",
      "execution_count": 7,
      "metadata": {
        "id": "jmo99bwjBPDg"
      },
      "outputs": [],
      "source": [
        "!cp -R ../data data"
      ]
    },
    {
      "cell_type": "code",
      "execution_count": 8,
      "metadata": {
        "id": "XMD7PnuBlI5Z"
      },
      "outputs": [],
      "source": [
        "!cp ./saved_data/X_t.npy ../X_t.npy\n",
        "!cp ./saved_data/y_t.npy ../y_t.npy\n",
        "!cp ./saved_data/X_v.npy ../X_v.npy\n",
        "!cp ./saved_data/y_v.npy ../y_v.npy"
      ]
    },
    {
      "cell_type": "code",
      "execution_count": 9,
      "metadata": {
        "id": "ZoRf8SnBmdSW"
      },
      "outputs": [],
      "source": [
        "!cp ../X_t.npy ./saved_data/X_t.npy\n",
        "!cp ../y_t.npy ./saved_data/y_t.npy\n",
        "!cp ../X_v.npy ./saved_data/X_v.npy\n",
        "!cp ../y_v.npy ./saved_data/y_v.npy"
      ]
    },
    {
      "cell_type": "markdown",
      "metadata": {
        "id": "hqJHBPmzOLRp"
      },
      "source": [
        "# Experiments"
      ]
    },
    {
      "cell_type": "markdown",
      "metadata": {
        "id": "FbUY1QNAOOF1"
      },
      "source": [
        "## Setup and imports"
      ]
    },
    {
      "cell_type": "code",
      "execution_count": 10,
      "metadata": {
        "colab": {
          "base_uri": "https://localhost:8080/"
        },
        "id": "mo-qe8XvoBte",
        "outputId": "f8406266-4d73-4fdf-c66c-5cdb60a54e01"
      },
      "outputs": [
        {
          "name": "stdout",
          "output_type": "stream",
          "text": [
            "[Errno 2] No such file or directory: 'Speech_Commands_with_RNNs/'\n",
            "/content/Speech_Commands_with_RNNs\n"
          ]
        }
      ],
      "source": [
        "%cd Speech_Commands_with_RNNs/"
      ]
    },
    {
      "cell_type": "code",
      "execution_count": 11,
      "metadata": {
        "id": "t7bALYwDOI_2"
      },
      "outputs": [],
      "source": [
        "import os\n",
        "import wandb\n",
        "import tensorflow as tf\n",
        "import sys\n",
        "import numpy as np\n",
        "\n",
        "from wandb.keras import WandbMetricsLogger, WandbModelCheckpoint\n",
        "from keras.callbacks import EarlyStopping, ModelCheckpoint, LearningRateScheduler\n",
        "from numpy import load\n",
        "\n",
        "sys.path.append(\"./\")\n",
        "from utils.utils import set_seeds, make_configs, step_decay\n",
        "from models.test_model import get_test_model\n",
        "from models.CNN_LSTM import CNN_LSTM1\n",
        "from models.GRU import GRU1, GRU2, GRU3\n",
        "from models.LSTM import LSTM1, LSTM2, LSTM3\n",
        "from models.simpleRNN import simpleRNN1, simpleRNN2, simpleRNN3\n",
        "\n",
        "import absl.logging\n",
        "absl.logging.set_verbosity(absl.logging.ERROR)"
      ]
    },
    {
      "cell_type": "markdown",
      "metadata": {
        "id": "s2DSa_UlOTYl"
      },
      "source": [
        "## Configs and data"
      ]
    },
    {
      "cell_type": "code",
      "execution_count": 12,
      "metadata": {
        "id": "rIlwhg_8vTpA"
      },
      "outputs": [],
      "source": [
        "ENTITY = 'wo-team'\n",
        "PROJECT = 'dl-rnn-audio'\n",
        "GROUP = 'simple-lstm-gru'\n",
        "NAME = '_'\n",
        "SAVE_PATH = 'weights/'\n",
        "\n",
        "models = {\n",
        "    'GRU3': GRU3,\n",
        "}\n",
        "base_config = {\n",
        "    'dataloader': {\n",
        "        'sample_rate': 8000,\n",
        "        'unknown_silence_samples': 2000,\n",
        "        'seed': 0,\n",
        "        'batch_size': 128,\n",
        "        'convert_to_image': False,\n",
        "    },\n",
        "    'training': {\n",
        "        'n_epochs': 50,\n",
        "        'dropout': 0.3,\n",
        "    },\n",
        "    'compile':{\n",
        "        'loss': 'sparse_categorical_crossentropy',\n",
        "        'optimizer': 'adam',\n",
        "        'metrics': ['accuracy', 'sparse_categorical_accuracy']\n",
        "    },\n",
        "    'model': {\n",
        "        'architecture': 'GRU3',\n",
        "        'model_init': None,\n",
        "        'id': None,\n",
        "        'save_path': None,\n",
        "    },\n",
        "    'early_stopper':{\n",
        "        'monitor': 'val_sparse_categorical_accuracy',\n",
        "        'min_delta': 0.001,\n",
        "        'patience': 4,\n",
        "        'verbose': 1,\n",
        "        'start_from_epoch': 10,\n",
        "        'restore_best_weights': True,\n",
        "    },\n",
        "    'checkpointer':{\n",
        "        'monitor': 'val_sparse_categorical_accuracy',\n",
        "        \"verbose\": 1,\n",
        "        'save_best_only': True\n",
        "    },\n",
        "    'scheduler': LearningRateScheduler(step_decay),\n",
        "    'other':{\n",
        "            'num_classes':12,\n",
        "    }\n",
        "}\n",
        "\n",
        "combinations = {\n",
        "    'seeds': {\n",
        "        'dict_path': ['dataloader', 'seed'],\n",
        "        'values': [0]\n",
        "    }\n",
        "\n",
        "}\n",
        "\n",
        "\n",
        "\n",
        "configs = make_configs(base_config, combinations)\n",
        "\n",
        "LOAD_PTH = \"./saved_data/\"\n",
        "X_t = load(LOAD_PTH + \"X_t.npy\")\n",
        "y_t = load(LOAD_PTH + \"y_t.npy\")\n",
        "X_v = load(LOAD_PTH + \"X_v.npy\")\n",
        "y_v = load(LOAD_PTH + \"y_v.npy\")\n",
        "y_t = np.argmax(y_t, axis=1).transpose()\n",
        "y_v = np.argmax(y_v, axis=1).transpose()"
      ]
    },
    {
      "cell_type": "markdown",
      "metadata": {
        "id": "AeiVR0QXORC2"
      },
      "source": [
        "## Training"
      ]
    },
    {
      "cell_type": "code",
      "execution_count": 13,
      "metadata": {
        "colab": {
          "base_uri": "https://localhost:8080/",
          "height": 1000
        },
        "collapsed": true,
        "id": "oNkpnv67TVgX",
        "outputId": "4e9000e5-5e1e-4ec7-ba24-d7682f271e7c"
      },
      "outputs": [
        {
          "data": {
            "application/javascript": "\n        window._wandbApiKey = new Promise((resolve, reject) => {\n            function loadScript(url) {\n            return new Promise(function(resolve, reject) {\n                let newScript = document.createElement(\"script\");\n                newScript.onerror = reject;\n                newScript.onload = resolve;\n                document.body.appendChild(newScript);\n                newScript.src = url;\n            });\n            }\n            loadScript(\"https://cdn.jsdelivr.net/npm/postmate/build/postmate.min.js\").then(() => {\n            const iframe = document.createElement('iframe')\n            iframe.style.cssText = \"width:0;height:0;border:none\"\n            document.body.appendChild(iframe)\n            const handshake = new Postmate({\n                container: iframe,\n                url: 'https://wandb.ai/authorize'\n            });\n            const timeout = setTimeout(() => reject(\"Couldn't auto authenticate\"), 5000)\n            handshake.then(function(child) {\n                child.on('authorize', data => {\n                    clearTimeout(timeout)\n                    resolve(data)\n                });\n            });\n            })\n        });\n    ",
            "text/plain": [
              "<IPython.core.display.Javascript object>"
            ]
          },
          "metadata": {},
          "output_type": "display_data"
        },
        {
          "name": "stderr",
          "output_type": "stream",
          "text": [
            "\u001b[34m\u001b[1mwandb\u001b[0m: Logging into wandb.ai. (Learn how to deploy a W&B server locally: https://wandb.me/wandb-server)\n",
            "\u001b[34m\u001b[1mwandb\u001b[0m: You can find your API key in your browser here: https://wandb.ai/authorize\n",
            "wandb: Paste an API key from your profile and hit enter, or press ctrl+c to quit:"
          ]
        },
        {
          "name": "stdout",
          "output_type": "stream",
          "text": [
            " ··········\n"
          ]
        },
        {
          "name": "stderr",
          "output_type": "stream",
          "text": [
            "\u001b[34m\u001b[1mwandb\u001b[0m: Appending key for api.wandb.ai to your netrc file: /root/.netrc\n"
          ]
        },
        {
          "data": {
            "text/html": [
              "Tracking run with wandb version 0.15.0"
            ],
            "text/plain": [
              "<IPython.core.display.HTML object>"
            ]
          },
          "metadata": {},
          "output_type": "display_data"
        },
        {
          "data": {
            "text/html": [
              "Run data is saved locally in <code>/content/Speech_Commands_with_RNNs/wandb/run-20230425_092455-70glxtcv</code>"
            ],
            "text/plain": [
              "<IPython.core.display.HTML object>"
            ]
          },
          "metadata": {},
          "output_type": "display_data"
        },
        {
          "data": {
            "text/html": [
              "Syncing run <strong><a href='https://wandb.ai/wo-team/dl-rnn-audio/runs/70glxtcv' target=\"_blank\">0GRU3_seed0_dropout0,3</a></strong> to <a href='https://wandb.ai/wo-team/dl-rnn-audio' target=\"_blank\">Weights & Biases</a> (<a href='https://wandb.me/run' target=\"_blank\">docs</a>)<br/>"
            ],
            "text/plain": [
              "<IPython.core.display.HTML object>"
            ]
          },
          "metadata": {},
          "output_type": "display_data"
        },
        {
          "data": {
            "text/html": [
              " View project at <a href='https://wandb.ai/wo-team/dl-rnn-audio' target=\"_blank\">https://wandb.ai/wo-team/dl-rnn-audio</a>"
            ],
            "text/plain": [
              "<IPython.core.display.HTML object>"
            ]
          },
          "metadata": {},
          "output_type": "display_data"
        },
        {
          "data": {
            "text/html": [
              " View run at <a href='https://wandb.ai/wo-team/dl-rnn-audio/runs/70glxtcv' target=\"_blank\">https://wandb.ai/wo-team/dl-rnn-audio/runs/70glxtcv</a>"
            ],
            "text/plain": [
              "<IPython.core.display.HTML object>"
            ]
          },
          "metadata": {},
          "output_type": "display_data"
        },
        {
          "name": "stdout",
          "output_type": "stream",
          "text": [
            "---------------\n",
            "Config 1/1\n",
            "---------------\n",
            "\n",
            "\n",
            "Running config: {'dataloader': {'sample_rate': 8000, 'unknown_silence_samples': 2000, 'seed': 0, 'batch_size': 128, 'convert_to_image': False}, 'training': {'n_epochs': 50, 'dropout': 0.3}, 'compile': {'loss': 'sparse_categorical_crossentropy', 'optimizer': 'adam', 'metrics': ['accuracy', 'sparse_categorical_accuracy']}, 'model': {'architecture': 'GRU3', 'model_init': <function GRU3 at 0x7f541305c8b0>, 'id': 0, 'save_path': None}, 'early_stopper': {'monitor': 'val_sparse_categorical_accuracy', 'min_delta': 0.001, 'patience': 4, 'verbose': 1, 'start_from_epoch': 10, 'restore_best_weights': True}, 'checkpointer': {'monitor': 'val_sparse_categorical_accuracy', 'verbose': 1, 'save_best_only': True}, 'scheduler': <keras.callbacks.LearningRateScheduler object at 0x7f54130615e0>, 'other': {'num_classes': 12}} \n",
            "\n",
            "Changing learning rate to 0.001\n",
            "Epoch 1/50\n",
            "159/160 [============================>.] - ETA: 0s - loss: 1.5247 - accuracy: 0.4650 - sparse_categorical_accuracy: 0.4650\n",
            "Epoch 1: val_sparse_categorical_accuracy improved from -inf to 0.46391, saving model to 0GRU3_seed0_dropout0,3.h5\n"
          ]
        },
        {
          "name": "stderr",
          "output_type": "stream",
          "text": [
            "\u001b[34m\u001b[1mwandb\u001b[0m: Adding directory to artifact (./weights/wandb)... Done. 0.2s\n"
          ]
        },
        {
          "name": "stdout",
          "output_type": "stream",
          "text": [
            "\b\b\b\b\b\b\b\b\b\b\b\b\b\b\b\b\b\b\b\b\b\b\b\b\b\b\b\b\b\b\b\b\b\b\b\b\b\b\b\b\b\b\b\b\b\b\b\b\b\b\b\b\b\b\b\b\b\b\b\b\b\b\b\b\b\b\b\b\b\b\b\b\b\b\b\b\b\b\b\b\b\b\b\b\b\b\b\b\b\b\b\b\b\b\b\b\b\b\b\b\b\b\b\b\b\b\b\b\b\b\b\b\b\b\b\b\b\b\b\b\b\b\r160/160 [==============================] - 45s 183ms/step - loss: 1.5221 - accuracy: 0.4660 - sparse_categorical_accuracy: 0.4660 - val_loss: 1.6167 - val_accuracy: 0.4639 - val_sparse_categorical_accuracy: 0.4639 - lr: 0.0010\n",
            "Changing learning rate to 0.001\n",
            "Epoch 2/50\n",
            "159/160 [============================>.] - ETA: 0s - loss: 0.6297 - accuracy: 0.8030 - sparse_categorical_accuracy: 0.8030\n",
            "Epoch 2: val_sparse_categorical_accuracy improved from 0.46391 to 0.75917, saving model to 0GRU3_seed0_dropout0,3.h5\n"
          ]
        },
        {
          "name": "stderr",
          "output_type": "stream",
          "text": [
            "\u001b[34m\u001b[1mwandb\u001b[0m: Adding directory to artifact (./weights/wandb)... Done. 0.1s\n"
          ]
        },
        {
          "name": "stdout",
          "output_type": "stream",
          "text": [
            "\b\b\b\b\b\b\b\b\b\b\b\b\b\b\b\b\b\b\b\b\b\b\b\b\b\b\b\b\b\b\b\b\b\b\b\b\b\b\b\b\b\b\b\b\b\b\b\b\b\b\b\b\b\b\b\b\b\b\b\b\b\b\b\b\b\b\b\b\b\b\b\b\b\b\b\b\b\b\b\b\b\b\b\b\b\b\b\b\b\b\b\b\b\b\b\b\b\b\b\b\b\b\b\b\b\b\b\b\b\b\b\b\b\b\b\b\b\b\b\b\b\b\r160/160 [==============================] - 28s 173ms/step - loss: 0.6293 - accuracy: 0.8030 - sparse_categorical_accuracy: 0.8030 - val_loss: 0.7357 - val_accuracy: 0.7592 - val_sparse_categorical_accuracy: 0.7592 - lr: 0.0010\n",
            "Changing learning rate to 0.001\n",
            "Epoch 3/50\n",
            "159/160 [============================>.] - ETA: 0s - loss: 0.4259 - accuracy: 0.8702 - sparse_categorical_accuracy: 0.8702\n",
            "Epoch 3: val_sparse_categorical_accuracy improved from 0.75917 to 0.79175, saving model to 0GRU3_seed0_dropout0,3.h5\n"
          ]
        },
        {
          "name": "stderr",
          "output_type": "stream",
          "text": [
            "\u001b[34m\u001b[1mwandb\u001b[0m: Adding directory to artifact (./weights/wandb)... Done. 0.1s\n"
          ]
        },
        {
          "name": "stdout",
          "output_type": "stream",
          "text": [
            "\b\b\b\b\b\b\b\b\b\b\b\b\b\b\b\b\b\b\b\b\b\b\b\b\b\b\b\b\b\b\b\b\b\b\b\b\b\b\b\b\b\b\b\b\b\b\b\b\b\b\b\b\b\b\b\b\b\b\b\b\b\b\b\b\b\b\b\b\b\b\b\b\b\b\b\b\b\b\b\b\b\b\b\b\b\b\b\b\b\b\b\b\b\b\b\b\b\b\b\b\b\b\b\b\b\b\b\b\b\b\b\b\b\b\b\b\b\b\b\b\b\b\r160/160 [==============================] - 36s 224ms/step - loss: 0.4255 - accuracy: 0.8702 - sparse_categorical_accuracy: 0.8702 - val_loss: 0.6814 - val_accuracy: 0.7918 - val_sparse_categorical_accuracy: 0.7918 - lr: 0.0010\n",
            "Changing learning rate to 0.001\n",
            "Epoch 4/50\n",
            "159/160 [============================>.] - ETA: 0s - loss: 0.3336 - accuracy: 0.8990 - sparse_categorical_accuracy: 0.8990\n",
            "Epoch 4: val_sparse_categorical_accuracy improved from 0.79175 to 0.84357, saving model to 0GRU3_seed0_dropout0,3.h5\n"
          ]
        },
        {
          "name": "stderr",
          "output_type": "stream",
          "text": [
            "\u001b[34m\u001b[1mwandb\u001b[0m: Adding directory to artifact (./weights/wandb)... Done. 0.1s\n"
          ]
        },
        {
          "name": "stdout",
          "output_type": "stream",
          "text": [
            "\b\b\b\b\b\b\b\b\b\b\b\b\b\b\b\b\b\b\b\b\b\b\b\b\b\b\b\b\b\b\b\b\b\b\b\b\b\b\b\b\b\b\b\b\b\b\b\b\b\b\b\b\b\b\b\b\b\b\b\b\b\b\b\b\b\b\b\b\b\b\b\b\b\b\b\b\b\b\b\b\b\b\b\b\b\b\b\b\b\b\b\b\b\b\b\b\b\b\b\b\b\b\b\b\b\b\b\b\b\b\b\b\b\b\b\b\b\b\b\b\b\b\r160/160 [==============================] - 28s 172ms/step - loss: 0.3336 - accuracy: 0.8991 - sparse_categorical_accuracy: 0.8991 - val_loss: 0.5213 - val_accuracy: 0.8436 - val_sparse_categorical_accuracy: 0.8436 - lr: 0.0010\n",
            "Changing learning rate to 0.001\n",
            "Epoch 5/50\n",
            "159/160 [============================>.] - ETA: 0s - loss: 0.2620 - accuracy: 0.9205 - sparse_categorical_accuracy: 0.9205\n",
            "Epoch 5: val_sparse_categorical_accuracy did not improve from 0.84357\n"
          ]
        },
        {
          "name": "stderr",
          "output_type": "stream",
          "text": [
            "\u001b[34m\u001b[1mwandb\u001b[0m: Adding directory to artifact (./weights/wandb)... Done. 0.1s\n"
          ]
        },
        {
          "name": "stdout",
          "output_type": "stream",
          "text": [
            "\b\b\b\b\b\b\b\b\b\b\b\b\b\b\b\b\b\b\b\b\b\b\b\b\b\b\b\b\b\b\b\b\b\b\b\b\b\b\b\b\b\b\b\b\b\b\b\b\b\b\b\b\b\b\b\b\b\b\b\b\b\b\b\b\b\b\b\b\b\b\b\b\b\b\b\b\b\b\b\b\b\b\b\b\b\b\b\b\b\b\b\b\b\b\b\b\b\b\b\b\b\b\b\b\b\b\b\b\b\b\b\b\b\b\b\b\b\b\b\b\b\b\r160/160 [==============================] - 28s 173ms/step - loss: 0.2620 - accuracy: 0.9205 - sparse_categorical_accuracy: 0.9205 - val_loss: 0.6543 - val_accuracy: 0.8219 - val_sparse_categorical_accuracy: 0.8219 - lr: 0.0010\n",
            "Changing learning rate to 0.001\n",
            "Epoch 6/50\n",
            "159/160 [============================>.] - ETA: 0s - loss: 0.2369 - accuracy: 0.9298 - sparse_categorical_accuracy: 0.9298\n",
            "Epoch 6: val_sparse_categorical_accuracy did not improve from 0.84357\n"
          ]
        },
        {
          "name": "stderr",
          "output_type": "stream",
          "text": [
            "\u001b[34m\u001b[1mwandb\u001b[0m: Adding directory to artifact (./weights/wandb)... Done. 0.1s\n"
          ]
        },
        {
          "name": "stdout",
          "output_type": "stream",
          "text": [
            "\b\b\b\b\b\b\b\b\b\b\b\b\b\b\b\b\b\b\b\b\b\b\b\b\b\b\b\b\b\b\b\b\b\b\b\b\b\b\b\b\b\b\b\b\b\b\b\b\b\b\b\b\b\b\b\b\b\b\b\b\b\b\b\b\b\b\b\b\b\b\b\b\b\b\b\b\b\b\b\b\b\b\b\b\b\b\b\b\b\b\b\b\b\b\b\b\b\b\b\b\b\b\b\b\b\b\b\b\b\b\b\b\b\b\b\b\b\b\b\b\b\b\r160/160 [==============================] - 27s 171ms/step - loss: 0.2371 - accuracy: 0.9298 - sparse_categorical_accuracy: 0.9298 - val_loss: 0.6387 - val_accuracy: 0.8152 - val_sparse_categorical_accuracy: 0.8152 - lr: 0.0010\n",
            "Changing learning rate to 0.001\n",
            "Epoch 7/50\n",
            "159/160 [============================>.] - ETA: 0s - loss: 0.2004 - accuracy: 0.9416 - sparse_categorical_accuracy: 0.9416\n",
            "Epoch 7: val_sparse_categorical_accuracy did not improve from 0.84357\n"
          ]
        },
        {
          "name": "stderr",
          "output_type": "stream",
          "text": [
            "\u001b[34m\u001b[1mwandb\u001b[0m: Adding directory to artifact (./weights/wandb)... Done. 0.1s\n"
          ]
        },
        {
          "name": "stdout",
          "output_type": "stream",
          "text": [
            "\b\b\b\b\b\b\b\b\b\b\b\b\b\b\b\b\b\b\b\b\b\b\b\b\b\b\b\b\b\b\b\b\b\b\b\b\b\b\b\b\b\b\b\b\b\b\b\b\b\b\b\b\b\b\b\b\b\b\b\b\b\b\b\b\b\b\b\b\b\b\b\b\b\b\b\b\b\b\b\b\b\b\b\b\b\b\b\b\b\b\b\b\b\b\b\b\b\b\b\b\b\b\b\b\b\b\b\b\b\b\b\b\b\b\b\b\b\b\b\b\b\b\r160/160 [==============================] - 28s 173ms/step - loss: 0.2001 - accuracy: 0.9416 - sparse_categorical_accuracy: 0.9416 - val_loss: 0.7053 - val_accuracy: 0.8146 - val_sparse_categorical_accuracy: 0.8146 - lr: 0.0010\n",
            "Changing learning rate to 0.001\n",
            "Epoch 8/50\n",
            "159/160 [============================>.] - ETA: 0s - loss: 0.1696 - accuracy: 0.9497 - sparse_categorical_accuracy: 0.9497\n",
            "Epoch 8: val_sparse_categorical_accuracy did not improve from 0.84357\n"
          ]
        },
        {
          "name": "stderr",
          "output_type": "stream",
          "text": [
            "\u001b[34m\u001b[1mwandb\u001b[0m: Adding directory to artifact (./weights/wandb)... Done. 0.1s\n"
          ]
        },
        {
          "name": "stdout",
          "output_type": "stream",
          "text": [
            "\b\b\b\b\b\b\b\b\b\b\b\b\b\b\b\b\b\b\b\b\b\b\b\b\b\b\b\b\b\b\b\b\b\b\b\b\b\b\b\b\b\b\b\b\b\b\b\b\b\b\b\b\b\b\b\b\b\b\b\b\b\b\b\b\b\b\b\b\b\b\b\b\b\b\b\b\b\b\b\b\b\b\b\b\b\b\b\b\b\b\b\b\b\b\b\b\b\b\b\b\b\b\b\b\b\b\b\b\b\b\b\b\b\b\b\b\b\b\b\b\b\b\r160/160 [==============================] - 28s 173ms/step - loss: 0.1695 - accuracy: 0.9495 - sparse_categorical_accuracy: 0.9495 - val_loss: 0.8942 - val_accuracy: 0.7939 - val_sparse_categorical_accuracy: 0.7939 - lr: 0.0010\n",
            "Changing learning rate to 0.001\n",
            "Epoch 9/50\n",
            "159/160 [============================>.] - ETA: 0s - loss: 0.1577 - accuracy: 0.9534 - sparse_categorical_accuracy: 0.9534\n",
            "Epoch 9: val_sparse_categorical_accuracy did not improve from 0.84357\n"
          ]
        },
        {
          "name": "stderr",
          "output_type": "stream",
          "text": [
            "\u001b[34m\u001b[1mwandb\u001b[0m: Adding directory to artifact (./weights/wandb)... Done. 0.1s\n"
          ]
        },
        {
          "name": "stdout",
          "output_type": "stream",
          "text": [
            "\b\b\b\b\b\b\b\b\b\b\b\b\b\b\b\b\b\b\b\b\b\b\b\b\b\b\b\b\b\b\b\b\b\b\b\b\b\b\b\b\b\b\b\b\b\b\b\b\b\b\b\b\b\b\b\b\b\b\b\b\b\b\b\b\b\b\b\b\b\b\b\b\b\b\b\b\b\b\b\b\b\b\b\b\b\b\b\b\b\b\b\b\b\b\b\b\b\b\b\b\b\b\b\b\b\b\b\b\b\b\b\b\b\b\b\b\b\b\b\b\b\b\r160/160 [==============================] - 28s 175ms/step - loss: 0.1582 - accuracy: 0.9534 - sparse_categorical_accuracy: 0.9534 - val_loss: 0.6525 - val_accuracy: 0.8333 - val_sparse_categorical_accuracy: 0.8333 - lr: 0.0010\n",
            "Changing learning rate to 0.0004\n",
            "Epoch 10/50\n",
            "159/160 [============================>.] - ETA: 0s - loss: 0.0800 - accuracy: 0.9766 - sparse_categorical_accuracy: 0.9766\n",
            "Epoch 10: val_sparse_categorical_accuracy improved from 0.84357 to 0.88121, saving model to 0GRU3_seed0_dropout0,3.h5\n"
          ]
        },
        {
          "name": "stderr",
          "output_type": "stream",
          "text": [
            "\u001b[34m\u001b[1mwandb\u001b[0m: Adding directory to artifact (./weights/wandb)... Done. 0.1s\n"
          ]
        },
        {
          "name": "stdout",
          "output_type": "stream",
          "text": [
            "\b\b\b\b\b\b\b\b\b\b\b\b\b\b\b\b\b\b\b\b\b\b\b\b\b\b\b\b\b\b\b\b\b\b\b\b\b\b\b\b\b\b\b\b\b\b\b\b\b\b\b\b\b\b\b\b\b\b\b\b\b\b\b\b\b\b\b\b\b\b\b\b\b\b\b\b\b\b\b\b\b\b\b\b\b\b\b\b\b\b\b\b\b\b\b\b\b\b\b\b\b\b\b\b\b\b\b\b\b\b\b\b\b\b\b\b\b\b\b\b\b\b\r160/160 [==============================] - 30s 186ms/step - loss: 0.0799 - accuracy: 0.9766 - sparse_categorical_accuracy: 0.9766 - val_loss: 0.5214 - val_accuracy: 0.8812 - val_sparse_categorical_accuracy: 0.8812 - lr: 4.0000e-04\n",
            "Changing learning rate to 0.0004\n",
            "Epoch 11/50\n",
            "159/160 [============================>.] - ETA: 0s - loss: 0.0546 - accuracy: 0.9845 - sparse_categorical_accuracy: 0.9845\n",
            "Epoch 11: val_sparse_categorical_accuracy did not improve from 0.88121\n"
          ]
        },
        {
          "name": "stderr",
          "output_type": "stream",
          "text": [
            "\u001b[34m\u001b[1mwandb\u001b[0m: Adding directory to artifact (./weights/wandb)... Done. 0.1s\n"
          ]
        },
        {
          "name": "stdout",
          "output_type": "stream",
          "text": [
            "\b\b\b\b\b\b\b\b\b\b\b\b\b\b\b\b\b\b\b\b\b\b\b\b\b\b\b\b\b\b\b\b\b\b\b\b\b\b\b\b\b\b\b\b\b\b\b\b\b\b\b\b\b\b\b\b\b\b\b\b\b\b\b\b\b\b\b\b\b\b\b\b\b\b\b\b\b\b\b\b\b\b\b\b\b\b\b\b\b\b\b\b\b\b\b\b\b\b\b\b\b\b\b\b\b\b\b\b\b\b\b\b\b\b\b\b\b\b\b\b\b\b\r160/160 [==============================] - 28s 175ms/step - loss: 0.0545 - accuracy: 0.9846 - sparse_categorical_accuracy: 0.9846 - val_loss: 0.6052 - val_accuracy: 0.8723 - val_sparse_categorical_accuracy: 0.8723 - lr: 4.0000e-04\n",
            "Changing learning rate to 0.0004\n",
            "Epoch 12/50\n",
            "159/160 [============================>.] - ETA: 0s - loss: 0.0456 - accuracy: 0.9867 - sparse_categorical_accuracy: 0.9867\n",
            "Epoch 12: val_sparse_categorical_accuracy did not improve from 0.88121\n"
          ]
        },
        {
          "name": "stderr",
          "output_type": "stream",
          "text": [
            "\u001b[34m\u001b[1mwandb\u001b[0m: Adding directory to artifact (./weights/wandb)... Done. 0.1s\n"
          ]
        },
        {
          "name": "stdout",
          "output_type": "stream",
          "text": [
            "\b\b\b\b\b\b\b\b\b\b\b\b\b\b\b\b\b\b\b\b\b\b\b\b\b\b\b\b\b\b\b\b\b\b\b\b\b\b\b\b\b\b\b\b\b\b\b\b\b\b\b\b\b\b\b\b\b\b\b\b\b\b\b\b\b\b\b\b\b\b\b\b\b\b\b\b\b\b\b\b\b\b\b\b\b\b\b\b\b\b\b\b\b\b\b\b\b\b\b\b\b\b\b\b\b\b\b\b\b\b\b\b\b\b\b\b\b\b\b\b\b\b\r160/160 [==============================] - 28s 173ms/step - loss: 0.0454 - accuracy: 0.9867 - sparse_categorical_accuracy: 0.9867 - val_loss: 0.6258 - val_accuracy: 0.8708 - val_sparse_categorical_accuracy: 0.8708 - lr: 4.0000e-04\n",
            "Changing learning rate to 0.0004\n",
            "Epoch 13/50\n",
            "159/160 [============================>.] - ETA: 0s - loss: 0.0396 - accuracy: 0.9890 - sparse_categorical_accuracy: 0.9890\n",
            "Epoch 13: val_sparse_categorical_accuracy did not improve from 0.88121\n"
          ]
        },
        {
          "name": "stderr",
          "output_type": "stream",
          "text": [
            "\u001b[34m\u001b[1mwandb\u001b[0m: Adding directory to artifact (./weights/wandb)... Done. 0.1s\n"
          ]
        },
        {
          "name": "stdout",
          "output_type": "stream",
          "text": [
            "\b\b\b\b\b\b\b\b\b\b\b\b\b\b\b\b\b\b\b\b\b\b\b\b\b\b\b\b\b\b\b\b\b\b\b\b\b\b\b\b\b\b\b\b\b\b\b\b\b\b\b\b\b\b\b\b\b\b\b\b\b\b\b\b\b\b\b\b\b\b\b\b\b\b\b\b\b\b\b\b\b\b\b\b\b\b\b\b\b\b\b\b\b\b\b\b\b\b\b\b\b\b\b\b\b\b\b\b\b\b\b\b\b\b\b\b\b\b\b\b\b\b\r160/160 [==============================] - 28s 174ms/step - loss: 0.0395 - accuracy: 0.9890 - sparse_categorical_accuracy: 0.9890 - val_loss: 0.7130 - val_accuracy: 0.8737 - val_sparse_categorical_accuracy: 0.8737 - lr: 4.0000e-04\n",
            "Changing learning rate to 0.0004\n",
            "Epoch 14/50\n",
            "159/160 [============================>.] - ETA: 0s - loss: 0.0425 - accuracy: 0.9878 - sparse_categorical_accuracy: 0.9878\n",
            "Epoch 14: val_sparse_categorical_accuracy did not improve from 0.88121\n"
          ]
        },
        {
          "name": "stderr",
          "output_type": "stream",
          "text": [
            "\u001b[34m\u001b[1mwandb\u001b[0m: Adding directory to artifact (./weights/wandb)... Done. 0.1s\n"
          ]
        },
        {
          "name": "stdout",
          "output_type": "stream",
          "text": [
            "\b\b\b\b\b\b\b\b\b\b\b\b\b\b\b\b\b\b\b\b\b\b\b\b\b\b\b\b\b\b\b\b\b\b\b\b\b\b\b\b\b\b\b\b\b\b\b\b\b\b\b\b\b\b\b\b\b\b\b\b\b\b\b\b\b\b\b\b\b\b\b\b\b\b\b\b\b\b\b\b\b\b\b\b\b\b\b\b\b\b\b\b\b\b\b\b\b\b\b\b\b\b\b\b\b\b\b\b\b\b\b\b\b\b\b\b\b\b\b\b\b\b\r160/160 [==============================] - 27s 170ms/step - loss: 0.0424 - accuracy: 0.9878 - sparse_categorical_accuracy: 0.9878 - val_loss: 0.8998 - val_accuracy: 0.8426 - val_sparse_categorical_accuracy: 0.8426 - lr: 4.0000e-04\n",
            "Changing learning rate to 0.0004\n",
            "Epoch 15/50\n",
            "159/160 [============================>.] - ETA: 0s - loss: 0.0473 - accuracy: 0.9857 - sparse_categorical_accuracy: 0.9857\n",
            "Epoch 15: val_sparse_categorical_accuracy did not improve from 0.88121\n"
          ]
        },
        {
          "name": "stderr",
          "output_type": "stream",
          "text": [
            "\u001b[34m\u001b[1mwandb\u001b[0m: Adding directory to artifact (./weights/wandb)... Done. 0.1s\n"
          ]
        },
        {
          "name": "stdout",
          "output_type": "stream",
          "text": [
            "\b\b\b\b\b\b\b\b\b\b\b\b\b\b\b\b\b\b\b\b\b\b\b\b\b\b\b\b\b\b\b\b\b\b\b\b\b\b\b\b\b\b\b\b\b\b\b\b\b\b\b\b\b\b\b\b\b\b\b\b\b\b\b\b\b\b\b\b\b\b\b\b\b\b\b\b\b\b\b\b\b\b\b\b\b\b\b\b\b\b\b\b\b\b\b\b\b\b\b\b\b\b\b\b\b\b\b\b\b\b\b\b\b\b\b\b\b\b\b\b\b\b\r160/160 [==============================] - 28s 177ms/step - loss: 0.0473 - accuracy: 0.9857 - sparse_categorical_accuracy: 0.9857 - val_loss: 0.7644 - val_accuracy: 0.8680 - val_sparse_categorical_accuracy: 0.8680 - lr: 4.0000e-04\n",
            "Changing learning rate to 0.0004\n",
            "Epoch 16/50\n",
            "159/160 [============================>.] - ETA: 0s - loss: 0.0467 - accuracy: 0.9868 - sparse_categorical_accuracy: 0.9868\n",
            "Epoch 16: val_sparse_categorical_accuracy did not improve from 0.88121\n"
          ]
        },
        {
          "name": "stderr",
          "output_type": "stream",
          "text": [
            "\u001b[34m\u001b[1mwandb\u001b[0m: Adding directory to artifact (./weights/wandb)... Done. 0.1s\n"
          ]
        },
        {
          "name": "stdout",
          "output_type": "stream",
          "text": [
            "\b\b\b\b\b\b\b\b\b\b\b\b\b\b\b\b\b\b\b\b\b\b\b\b\b\b\b\b\b\b\b\b\b\b\b\b\b\b\b\b\b\b\b\b\b\b\b\b\b\b\b\b\b\b\b\b\b\b\b\b\b\b\b\b\b\b\b\b\b\b\b\b\b\b\b\b\b\b\b\b\b\b\b\b\b\b\b\b\b\b\b\b\b\b\b\b\b\b\b\b\b\b\b\b\b\b\b\b\b\b\b\b\b\b\b\b\b\b\b\b\b\b\r160/160 [==============================] - 28s 175ms/step - loss: 0.0465 - accuracy: 0.9868 - sparse_categorical_accuracy: 0.9868 - val_loss: 0.8075 - val_accuracy: 0.8612 - val_sparse_categorical_accuracy: 0.8612 - lr: 4.0000e-04\n",
            "Changing learning rate to 0.0004\n",
            "Epoch 17/50\n",
            "159/160 [============================>.] - ETA: 0s - loss: 0.0428 - accuracy: 0.9872 - sparse_categorical_accuracy: 0.9872Restoring model weights from the end of the best epoch: 13.\n",
            "\n",
            "Epoch 17: val_sparse_categorical_accuracy did not improve from 0.88121\n"
          ]
        },
        {
          "name": "stderr",
          "output_type": "stream",
          "text": [
            "\u001b[34m\u001b[1mwandb\u001b[0m: Adding directory to artifact (./weights/wandb)... Done. 0.1s\n"
          ]
        },
        {
          "name": "stdout",
          "output_type": "stream",
          "text": [
            "\b\b\b\b\b\b\b\b\b\b\b\b\b\b\b\b\b\b\b\b\b\b\b\b\b\b\b\b\b\b\b\b\b\b\b\b\b\b\b\b\b\b\b\b\b\b\b\b\b\b\b\b\b\b\b\b\b\b\b\b\b\b\b\b\b\b\b\b\b\b\b\b\b\b\b\b\b\b\b\b\b\b\b\b\b\b\b\b\b\b\b\b\b\b\b\b\b\b\b\b\b\b\b\b\b\b\b\b\b\b\b\b\b\b\b\b\b\b\b\b\b\b\r160/160 [==============================] - 28s 178ms/step - loss: 0.0427 - accuracy: 0.9872 - sparse_categorical_accuracy: 0.9872 - val_loss: 0.9051 - val_accuracy: 0.8467 - val_sparse_categorical_accuracy: 0.8467 - lr: 4.0000e-04\n",
            "Epoch 17: early stopping\n"
          ]
        },
        {
          "data": {
            "text/html": [
              "Waiting for W&B process to finish... <strong style=\"color:green\">(success).</strong>"
            ],
            "text/plain": [
              "<IPython.core.display.HTML object>"
            ]
          },
          "metadata": {},
          "output_type": "display_data"
        },
        {
          "data": {
            "text/html": [
              "<style>\n",
              "    table.wandb td:nth-child(1) { padding: 0 10px; text-align: left ; width: auto;} td:nth-child(2) {text-align: left ; width: 100%}\n",
              "    .wandb-row { display: flex; flex-direction: row; flex-wrap: wrap; justify-content: flex-start; width: 100% }\n",
              "    .wandb-col { display: flex; flex-direction: column; flex-basis: 100%; flex: 1; padding: 10px; }\n",
              "    </style>\n",
              "<div class=\"wandb-row\"><div class=\"wandb-col\"><h3>Run history:</h3><br/><table class=\"wandb\"><tr><td>batch/accuracy</td><td>▁▂▃▆▆▇▇▇▇▇▇▇▇▇██████████████████████████</td></tr><tr><td>batch/batch_step</td><td>▁▁▁▂▂▂▂▂▂▃▃▃▃▃▄▄▄▄▄▄▅▅▅▅▅▅▆▆▆▆▆▇▇▇▇▇▇███</td></tr><tr><td>batch/learning_rate</td><td>█████████████████████▁▁▁▁▁▁▁▁▁▁▁▁▁▁▁▁▁▁▁</td></tr><tr><td>batch/loss</td><td>█▇▆▃▃▂▂▂▂▂▂▂▂▂▁▂▂▁▁▁▁▁▁▁▁▁▁▁▁▁▁▁▁▁▁▁▁▁▁▁</td></tr><tr><td>batch/sparse_categorical_accuracy</td><td>▁▂▃▆▆▇▇▇▇▇▇▇▇▇██████████████████████████</td></tr><tr><td>epoch/accuracy</td><td>▁▆▆▇▇▇▇▇█████████</td></tr><tr><td>epoch/epoch</td><td>▁▁▂▂▃▃▄▄▅▅▅▆▆▇▇██</td></tr><tr><td>epoch/learning_rate</td><td>█████████▁▁▁▁▁▁▁▁</td></tr><tr><td>epoch/loss</td><td>█▄▃▂▂▂▂▂▂▁▁▁▁▁▁▁▁</td></tr><tr><td>epoch/lr</td><td>█████████▁▁▁▁▁▁▁▁</td></tr><tr><td>epoch/sparse_categorical_accuracy</td><td>▁▆▆▇▇▇▇▇█████████</td></tr><tr><td>epoch/val_accuracy</td><td>▁▆▆▇▇▇▇▇▇████▇██▇</td></tr><tr><td>epoch/val_loss</td><td>█▂▂▁▂▂▂▃▂▁▂▂▂▃▃▃▃</td></tr><tr><td>epoch/val_sparse_categorical_accuracy</td><td>▁▆▆▇▇▇▇▇▇████▇██▇</td></tr></table><br/></div><div class=\"wandb-col\"><h3>Run summary:</h3><br/><table class=\"wandb\"><tr><td>batch/accuracy</td><td>0.98713</td></tr><tr><td>batch/batch_step</td><td>2715</td></tr><tr><td>batch/learning_rate</td><td>0.0004</td></tr><tr><td>batch/loss</td><td>0.0427</td></tr><tr><td>batch/sparse_categorical_accuracy</td><td>0.98713</td></tr><tr><td>epoch/accuracy</td><td>0.98722</td></tr><tr><td>epoch/epoch</td><td>16</td></tr><tr><td>epoch/learning_rate</td><td>0.0004</td></tr><tr><td>epoch/loss</td><td>0.04273</td></tr><tr><td>epoch/lr</td><td>0.0004</td></tr><tr><td>epoch/sparse_categorical_accuracy</td><td>0.98722</td></tr><tr><td>epoch/val_accuracy</td><td>0.84667</td></tr><tr><td>epoch/val_loss</td><td>0.90505</td></tr><tr><td>epoch/val_sparse_categorical_accuracy</td><td>0.84667</td></tr></table><br/></div></div>"
            ],
            "text/plain": [
              "<IPython.core.display.HTML object>"
            ]
          },
          "metadata": {},
          "output_type": "display_data"
        },
        {
          "data": {
            "text/html": [
              " View run <strong style=\"color:#cdcd00\">0GRU3_seed0_dropout0,3</strong> at: <a href='https://wandb.ai/wo-team/dl-rnn-audio/runs/70glxtcv' target=\"_blank\">https://wandb.ai/wo-team/dl-rnn-audio/runs/70glxtcv</a><br/>Synced 5 W&B file(s), 0 media file(s), 85 artifact file(s) and 0 other file(s)"
            ],
            "text/plain": [
              "<IPython.core.display.HTML object>"
            ]
          },
          "metadata": {},
          "output_type": "display_data"
        },
        {
          "data": {
            "text/html": [
              "Find logs at: <code>./wandb/run-20230425_092455-70glxtcv/logs</code>"
            ],
            "text/plain": [
              "<IPython.core.display.HTML object>"
            ]
          },
          "metadata": {},
          "output_type": "display_data"
        }
      ],
      "source": [
        "for i, config in enumerate(configs):\n",
        "\n",
        "    set_seeds(config['dataloader']['seed'])\n",
        "    config['model']['id'] = i\n",
        "    NAME = str(config['model']['id']) + config['model']['architecture'] + \"_seed\" + str(config['dataloader']['seed']) +\"_dropout\"+str(config['training']['dropout']).replace(\".\", \",\")\n",
        "    config['model']['model_init'] = models[config['model']['architecture']]\n",
        "\n",
        "    wandb.init(\n",
        "        project = PROJECT,\n",
        "        entity = ENTITY,\n",
        "        group = GROUP,\n",
        "        name = NAME,\n",
        "        config = config)\n",
        "    \n",
        "    l = len(configs)\n",
        "    print(f\"---------------\\nConfig {i+1}/{l}\\n---------------\\n\\n\")\n",
        "    print('Running config:', config, \"\\n\")\n",
        "\n",
        "    input_shape = X_t.shape[1:]\n",
        "\n",
        "    model = config['model']['model_init'](input_shape=input_shape, output_nodes=12, dropout=config['training']['dropout'])\n",
        "\n",
        "    model.compile(**config[\"compile\"])\n",
        "    earlystopper = EarlyStopping(**config[\"early_stopper\"])\n",
        "    checkpointer = ModelCheckpoint(NAME+'.h5', **config[\"checkpointer\"])\n",
        "    lrate = config[\"scheduler\"]\n",
        "\n",
        "    history = model.fit(\n",
        "                X_t,\n",
        "                y_t,\n",
        "                epochs=config['training']['n_epochs'],\n",
        "                validation_data=(X_v, y_v),\n",
        "                batch_size=config['dataloader']['batch_size'],\n",
        "                shuffle=True,\n",
        "                callbacks=[\n",
        "                    earlystopper, \n",
        "                    checkpointer, \n",
        "                    lrate,\n",
        "                    WandbMetricsLogger(log_freq=5),\n",
        "                    WandbModelCheckpoint(\"weights/wandb\")\n",
        "                ])\n",
        "    save_path = os.path.join(SAVE_PATH, NAME)\n",
        "    model.save(save_path)\n",
        "\n",
        "    wandb.finish()"
      ]
    },
    {
      "cell_type": "markdown",
      "metadata": {
        "id": "w3PTM8gRz5aO"
      },
      "source": [
        "# KAGGLE "
      ]
    },
    {
      "cell_type": "code",
      "execution_count": 36,
      "metadata": {
        "colab": {
          "base_uri": "https://localhost:8080/"
        },
        "id": "DWhH1WTZz4o6",
        "outputId": "3a81142d-6a00-4afe-b438-861d8f00cbcd"
      },
      "outputs": [
        {
          "name": "stderr",
          "output_type": "stream",
          "text": [
            "Test dataset: 100%|██████████| 6835/6835 [01:26<00:00, 79.08it/s] \n"
          ]
        }
      ],
      "source": [
        "from utils.dataset import make_test_dataset\n",
        "X_test, y_test = make_test_dataset()\n",
        "\n",
        "SAVE_PTH = \"./saved_data/\"\n",
        "np.save(SAVE_PTH + \"X_test.npy\", X_test)\n",
        "np.save(SAVE_PTH + \"y_test.npy\", y_test)"
      ]
    },
    {
      "cell_type": "code",
      "execution_count": 22,
      "metadata": {
        "id": "jMC1jaoKyZYq"
      },
      "outputs": [],
      "source": [
        "best_model = tf.keras.models.load_model('0GRU3_seed0_dropout0,3.h5')"
      ]
    },
    {
      "cell_type": "code",
      "execution_count": 37,
      "metadata": {
        "id": "DMsWrR_oOO86"
      },
      "outputs": [],
      "source": [
        "y_test = np.argmax(y_test, axis=1).transpose()"
      ]
    },
    {
      "cell_type": "code",
      "execution_count": 52,
      "metadata": {
        "colab": {
          "base_uri": "https://localhost:8080/"
        },
        "id": "A4qfQTIdyvVT",
        "outputId": "17ee641f-a8e9-4e1f-9cce-7a51aa876748"
      },
      "outputs": [
        {
          "name": "stdout",
          "output_type": "stream",
          "text": [
            "192/192 [==============================] - 2s 11ms/step\n"
          ]
        },
        {
          "data": {
            "text/plain": [
              "array([10,  2, 10, ..., 10, 10, 10])"
            ]
          },
          "execution_count": 52,
          "metadata": {},
          "output_type": "execute_result"
        }
      ],
      "source": [
        "pred_label = best_model.predict(X_v)\n",
        "pred_label = np.argmax(pred_label, axis=1).transpose()\n",
        "pred_label"
      ]
    },
    {
      "cell_type": "code",
      "execution_count": 53,
      "metadata": {
        "colab": {
          "base_uri": "https://localhost:8080/"
        },
        "id": "EPOak4Pd4fsT",
        "outputId": "08c8c4c0-97e9-4184-a6d6-ed3d77943ac2"
      },
      "outputs": [
        {
          "data": {
            "text/plain": [
              "(6137,)"
            ]
          },
          "execution_count": 53,
          "metadata": {},
          "output_type": "execute_result"
        }
      ],
      "source": [
        "y_v.shape"
      ]
    },
    {
      "cell_type": "code",
      "execution_count": 54,
      "metadata": {
        "colab": {
          "base_uri": "https://localhost:8080/"
        },
        "id": "3U4m-9uQ5gKl",
        "outputId": "f88b7e51-26fd-4c8a-aa4e-a6e41faeedc5"
      },
      "outputs": [
        {
          "data": {
            "text/plain": [
              "(6231,)"
            ]
          },
          "execution_count": 54,
          "metadata": {},
          "output_type": "execute_result"
        }
      ],
      "source": [
        "y_test.shape"
      ]
    },
    {
      "cell_type": "code",
      "execution_count": 55,
      "metadata": {
        "colab": {
          "base_uri": "https://localhost:8080/"
        },
        "id": "ADbTKmkn5POr",
        "outputId": "c8708ac1-0066-4e84-c78d-7ccdc1180050"
      },
      "outputs": [
        {
          "data": {
            "text/plain": [
              "(6137,)"
            ]
          },
          "execution_count": 55,
          "metadata": {},
          "output_type": "execute_result"
        }
      ],
      "source": [
        "pred_label.shape"
      ]
    },
    {
      "cell_type": "code",
      "execution_count": 56,
      "metadata": {
        "colab": {
          "base_uri": "https://localhost:8080/"
        },
        "id": "Adf402N92iBL",
        "outputId": "37ecec1e-f84b-434f-f22f-615bb682a8cd"
      },
      "outputs": [
        {
          "data": {
            "text/plain": [
              "0.8812123187225028"
            ]
          },
          "execution_count": 56,
          "metadata": {},
          "output_type": "execute_result"
        }
      ],
      "source": [
        "accuracy = np.mean(y_v == pred_label)\n",
        "accuracy"
      ]
    },
    {
      "cell_type": "code",
      "execution_count": null,
      "metadata": {
        "id": "7nN0ttNO4PHO"
      },
      "outputs": [],
      "source": [
        "target_list = ['yes', 'no', 'up', 'down', 'left', 'right', 'on', 'off', 'stop', 'go', 'uknown', 'silence']    \n",
        "label_value = target_list\n",
        "label_value.append('unknown')\n",
        "label_value.append('silence')\n",
        "new_label_value = dict()\n",
        "for i, l in enumerate(label_value):\n",
        "    new_label_value[l] = i\n",
        "label_value = new_label_value"
      ]
    },
    {
      "cell_type": "markdown",
      "metadata": {
        "id": "s_FtccHI5A3t"
      },
      "source": []
    },
    {
      "cell_type": "code",
      "execution_count": 58,
      "metadata": {
        "id": "8S7L5brV4_F_"
      },
      "outputs": [],
      "source": [
        "import pandas as pd"
      ]
    },
    {
      "cell_type": "code",
      "execution_count": 93,
      "metadata": {
        "id": "Rq5Q5Rft531y"
      },
      "outputs": [],
      "source": [
        "classes = ['yes', 'no', 'up', 'down', 'left', 'right', 'on', 'off', 'stop', 'go', 'uknown', 'silence']"
      ]
    },
    {
      "cell_type": "code",
      "execution_count": 79,
      "metadata": {
        "colab": {
          "base_uri": "https://localhost:8080/",
          "height": 36
        },
        "id": "qBeL-uA39cfV",
        "outputId": "0074323a-452d-41ca-e386-4794ca92e75e"
      },
      "outputs": [
        {
          "data": {
            "application/vnd.google.colaboratory.intrinsic+json": {
              "type": "string"
            },
            "text/plain": [
              "'up'"
            ]
          },
          "execution_count": 79,
          "metadata": {},
          "output_type": "execute_result"
        }
      ],
      "source": [
        "classes[y_v[1]]"
      ]
    },
    {
      "cell_type": "code",
      "execution_count": 75,
      "metadata": {
        "colab": {
          "base_uri": "https://localhost:8080/",
          "height": 171
        },
        "id": "DBexGQqW690O",
        "outputId": "7fdf8f6d-4196-417e-a537-e5b3d6cb5f35"
      },
      "outputs": [
        {
          "ename": "TypeError",
          "evalue": "ignored",
          "output_type": "error",
          "traceback": [
            "\u001b[0;31m---------------------------------------------------------------------------\u001b[0m",
            "\u001b[0;31mTypeError\u001b[0m                                 Traceback (most recent call last)",
            "\u001b[0;32m<ipython-input-75-86e9a9127b7c>\u001b[0m in \u001b[0;36m<cell line: 1>\u001b[0;34m()\u001b[0m\n\u001b[0;32m----> 1\u001b[0;31m \u001b[0mclasses\u001b[0m\u001b[0;34m[\u001b[0m\u001b[0my_v\u001b[0m\u001b[0;34m]\u001b[0m\u001b[0;34m\u001b[0m\u001b[0;34m\u001b[0m\u001b[0m\n\u001b[0m",
            "\u001b[0;31mTypeError\u001b[0m: only integer scalar arrays can be converted to a scalar index"
          ]
        }
      ],
      "source": [
        "classes[y_v]"
      ]
    },
    {
      "cell_type": "code",
      "execution_count": 61,
      "metadata": {
        "colab": {
          "base_uri": "https://localhost:8080/",
          "height": 323
        },
        "id": "IeKxHMRL2mGE",
        "outputId": "d3e2f207-ee14-4110-9c47-375da3a52576"
      },
      "outputs": [
        {
          "ename": "AxisError",
          "evalue": "ignored",
          "output_type": "error",
          "traceback": [
            "\u001b[0;31m---------------------------------------------------------------------------\u001b[0m",
            "\u001b[0;31mAxisError\u001b[0m                                 Traceback (most recent call last)",
            "\u001b[0;32m<ipython-input-61-8e959efc7328>\u001b[0m in \u001b[0;36m<cell line: 1>\u001b[0;34m()\u001b[0m\n\u001b[0;32m----> 1\u001b[0;31m \u001b[0mpd\u001b[0m\u001b[0;34m.\u001b[0m\u001b[0mcrosstab\u001b[0m\u001b[0;34m(\u001b[0m\u001b[0mclasses\u001b[0m\u001b[0;34m[\u001b[0m\u001b[0mnp\u001b[0m\u001b[0;34m.\u001b[0m\u001b[0margmax\u001b[0m\u001b[0;34m(\u001b[0m\u001b[0my_v\u001b[0m\u001b[0;34m,\u001b[0m\u001b[0;36m1\u001b[0m\u001b[0;34m)\u001b[0m\u001b[0;34m]\u001b[0m\u001b[0;34m,\u001b[0m \u001b[0mclasses\u001b[0m\u001b[0;34m[\u001b[0m\u001b[0mnp\u001b[0m\u001b[0;34m.\u001b[0m\u001b[0margmax\u001b[0m\u001b[0;34m(\u001b[0m\u001b[0mpred_label\u001b[0m\u001b[0;34m,\u001b[0m\u001b[0;36m1\u001b[0m\u001b[0;34m)\u001b[0m\u001b[0;34m]\u001b[0m\u001b[0;34m,\u001b[0m \u001b[0mcolnames\u001b[0m\u001b[0;34m=\u001b[0m\u001b[0;34m[\u001b[0m\u001b[0;34m'prediction'\u001b[0m\u001b[0;34m]\u001b[0m\u001b[0;34m,\u001b[0m \u001b[0mrownames\u001b[0m\u001b[0;34m=\u001b[0m\u001b[0;34m[\u001b[0m\u001b[0;34m'truth'\u001b[0m\u001b[0;34m]\u001b[0m\u001b[0;34m)\u001b[0m\u001b[0;34m\u001b[0m\u001b[0;34m\u001b[0m\u001b[0m\n\u001b[0m",
            "\u001b[0;32m/usr/local/lib/python3.9/dist-packages/numpy/core/overrides.py\u001b[0m in \u001b[0;36margmax\u001b[0;34m(*args, **kwargs)\u001b[0m\n",
            "\u001b[0;32m/usr/local/lib/python3.9/dist-packages/numpy/core/fromnumeric.py\u001b[0m in \u001b[0;36margmax\u001b[0;34m(a, axis, out, keepdims)\u001b[0m\n\u001b[1;32m   1214\u001b[0m     \"\"\"\n\u001b[1;32m   1215\u001b[0m     \u001b[0mkwds\u001b[0m \u001b[0;34m=\u001b[0m \u001b[0;34m{\u001b[0m\u001b[0;34m'keepdims'\u001b[0m\u001b[0;34m:\u001b[0m \u001b[0mkeepdims\u001b[0m\u001b[0;34m}\u001b[0m \u001b[0;32mif\u001b[0m \u001b[0mkeepdims\u001b[0m \u001b[0;32mis\u001b[0m \u001b[0;32mnot\u001b[0m \u001b[0mnp\u001b[0m\u001b[0;34m.\u001b[0m\u001b[0m_NoValue\u001b[0m \u001b[0;32melse\u001b[0m \u001b[0;34m{\u001b[0m\u001b[0;34m}\u001b[0m\u001b[0;34m\u001b[0m\u001b[0;34m\u001b[0m\u001b[0m\n\u001b[0;32m-> 1216\u001b[0;31m     \u001b[0;32mreturn\u001b[0m \u001b[0m_wrapfunc\u001b[0m\u001b[0;34m(\u001b[0m\u001b[0ma\u001b[0m\u001b[0;34m,\u001b[0m \u001b[0;34m'argmax'\u001b[0m\u001b[0;34m,\u001b[0m \u001b[0maxis\u001b[0m\u001b[0;34m=\u001b[0m\u001b[0maxis\u001b[0m\u001b[0;34m,\u001b[0m \u001b[0mout\u001b[0m\u001b[0;34m=\u001b[0m\u001b[0mout\u001b[0m\u001b[0;34m,\u001b[0m \u001b[0;34m**\u001b[0m\u001b[0mkwds\u001b[0m\u001b[0;34m)\u001b[0m\u001b[0;34m\u001b[0m\u001b[0;34m\u001b[0m\u001b[0m\n\u001b[0m\u001b[1;32m   1217\u001b[0m \u001b[0;34m\u001b[0m\u001b[0m\n\u001b[1;32m   1218\u001b[0m \u001b[0;34m\u001b[0m\u001b[0m\n",
            "\u001b[0;32m/usr/local/lib/python3.9/dist-packages/numpy/core/fromnumeric.py\u001b[0m in \u001b[0;36m_wrapfunc\u001b[0;34m(obj, method, *args, **kwds)\u001b[0m\n\u001b[1;32m     55\u001b[0m \u001b[0;34m\u001b[0m\u001b[0m\n\u001b[1;32m     56\u001b[0m     \u001b[0;32mtry\u001b[0m\u001b[0;34m:\u001b[0m\u001b[0;34m\u001b[0m\u001b[0;34m\u001b[0m\u001b[0m\n\u001b[0;32m---> 57\u001b[0;31m         \u001b[0;32mreturn\u001b[0m \u001b[0mbound\u001b[0m\u001b[0;34m(\u001b[0m\u001b[0;34m*\u001b[0m\u001b[0margs\u001b[0m\u001b[0;34m,\u001b[0m \u001b[0;34m**\u001b[0m\u001b[0mkwds\u001b[0m\u001b[0;34m)\u001b[0m\u001b[0;34m\u001b[0m\u001b[0;34m\u001b[0m\u001b[0m\n\u001b[0m\u001b[1;32m     58\u001b[0m     \u001b[0;32mexcept\u001b[0m \u001b[0mTypeError\u001b[0m\u001b[0;34m:\u001b[0m\u001b[0;34m\u001b[0m\u001b[0;34m\u001b[0m\u001b[0m\n\u001b[1;32m     59\u001b[0m         \u001b[0;31m# A TypeError occurs if the object does have such a method in its\u001b[0m\u001b[0;34m\u001b[0m\u001b[0;34m\u001b[0m\u001b[0m\n",
            "\u001b[0;31mAxisError\u001b[0m: axis 1 is out of bounds for array of dimension 1"
          ]
        }
      ],
      "source": [
        "pd.crosstab(classes[np.argmax(y_v,1)], classes[np.argmax(pred_label,1)], colnames=['prediction'], rownames=['truth'])"
      ]
    },
    {
      "cell_type": "code",
      "execution_count": 67,
      "metadata": {
        "colab": {
          "base_uri": "https://localhost:8080/"
        },
        "id": "UmZcC2yL8PgN",
        "outputId": "83214147-4353-4670-db22-766204794db5"
      },
      "outputs": [
        {
          "data": {
            "text/plain": [
              "array([[ 213,    2,    0,    1,    2,    1,    1,    0,    0,    2,    9,\n",
              "           1],\n",
              "       [   6,  211,    1,    1,    0,    0,    0,    1,    0,   11,    4,\n",
              "           0],\n",
              "       [   0,    0,  191,    0,    1,    1,    3,   12,    2,    3,    8,\n",
              "           0],\n",
              "       [   2,    6,    0,  229,    0,    0,    1,    1,    3,    3,    2,\n",
              "           0],\n",
              "       [  21,    0,    0,    0,  205,    1,    0,    1,    0,    2,    3,\n",
              "           0],\n",
              "       [   0,    0,    2,    0,    7,  217,    1,    0,    0,    0,    8,\n",
              "           0],\n",
              "       [   0,    2,    2,    0,    0,    2,  221,    3,    1,    1,    0,\n",
              "           2],\n",
              "       [   0,    0,    6,    0,    0,    0,    4,  214,    1,    3,    4,\n",
              "           0],\n",
              "       [   0,    2,    5,    1,    3,    0,    0,    4,  205,    0,    5,\n",
              "           0],\n",
              "       [   0,   12,    1,    4,    0,    2,    2,    4,    1,  193,   10,\n",
              "           2],\n",
              "       [  51,   34,   28,   34,   58,   61,   92,   22,   43,   70, 3309,\n",
              "          10],\n",
              "       [   0,    0,    0,    0,    0,    0,    0,    0,    0,    0,    0,\n",
              "           0]])"
            ]
          },
          "execution_count": 67,
          "metadata": {},
          "output_type": "execute_result"
        }
      ],
      "source": [
        "from sklearn.metrics import confusion_matrix\n",
        "confusion_matrix(y_v, pred_label)"
      ]
    },
    {
      "cell_type": "code",
      "execution_count": 94,
      "metadata": {
        "id": "9mVMnpmK_0Sh"
      },
      "outputs": [],
      "source": [
        "classes_words_v = []\n",
        "for i in range(len(y_v)):\n",
        "  classes_words_v.append(classes[y_v[i]])"
      ]
    },
    {
      "cell_type": "code",
      "execution_count": 103,
      "metadata": {
        "colab": {
          "base_uri": "https://localhost:8080/"
        },
        "id": "iE9dBXouDGzV",
        "outputId": "21aa6f8f-a98d-471b-ec30-1122879b752d"
      },
      "outputs": [
        {
          "data": {
            "text/plain": [
              "6137"
            ]
          },
          "execution_count": 103,
          "metadata": {},
          "output_type": "execute_result"
        }
      ],
      "source": [
        "len(y_v)"
      ]
    },
    {
      "cell_type": "code",
      "execution_count": 101,
      "metadata": {
        "colab": {
          "base_uri": "https://localhost:8080/"
        },
        "id": "4yUdjFB7CzUj",
        "outputId": "a56d1b38-ac55-4e1c-bf03-d1028a1f22a0"
      },
      "outputs": [
        {
          "data": {
            "text/plain": [
              "6137"
            ]
          },
          "execution_count": 101,
          "metadata": {},
          "output_type": "execute_result"
        }
      ],
      "source": [
        "len(classes_words_v)"
      ]
    },
    {
      "cell_type": "code",
      "execution_count": 95,
      "metadata": {
        "id": "pODBFFFvA4m9"
      },
      "outputs": [],
      "source": [
        "classes_words_pred = []\n",
        "for i in range(len(pred_label)):\n",
        "  classes_words_pred.append(classes[pred_label[i]])"
      ]
    },
    {
      "cell_type": "code",
      "execution_count": 104,
      "metadata": {
        "colab": {
          "base_uri": "https://localhost:8080/"
        },
        "id": "fz7MTuFtDI3E",
        "outputId": "a2674153-213b-4e95-f908-71295afcceab"
      },
      "outputs": [
        {
          "data": {
            "text/plain": [
              "6137"
            ]
          },
          "execution_count": 104,
          "metadata": {},
          "output_type": "execute_result"
        }
      ],
      "source": [
        "len(pred_label)"
      ]
    },
    {
      "cell_type": "code",
      "execution_count": 102,
      "metadata": {
        "colab": {
          "base_uri": "https://localhost:8080/"
        },
        "id": "RhQ6TFo-DB3Q",
        "outputId": "608cc794-33c0-4685-c730-9738ac375aa7"
      },
      "outputs": [
        {
          "data": {
            "text/plain": [
              "6137"
            ]
          },
          "execution_count": 102,
          "metadata": {},
          "output_type": "execute_result"
        }
      ],
      "source": [
        "len(classes_words_pred)"
      ]
    },
    {
      "cell_type": "code",
      "execution_count": 119,
      "metadata": {
        "colab": {
          "base_uri": "https://localhost:8080/",
          "height": 394
        },
        "id": "K8IeFvEk8p1a",
        "outputId": "d8387fd5-6637-4349-ba82-0300911c5362"
      },
      "outputs": [
        {
          "data": {
            "text/html": [
              "\n",
              "  <div id=\"df-dc41333d-5687-48fa-bc98-af3283e73fa8\">\n",
              "    <div class=\"colab-df-container\">\n",
              "      <div>\n",
              "<style scoped>\n",
              "    .dataframe tbody tr th:only-of-type {\n",
              "        vertical-align: middle;\n",
              "    }\n",
              "\n",
              "    .dataframe tbody tr th {\n",
              "        vertical-align: top;\n",
              "    }\n",
              "\n",
              "    .dataframe thead th {\n",
              "        text-align: right;\n",
              "    }\n",
              "</style>\n",
              "<table border=\"1\" class=\"dataframe\">\n",
              "  <thead>\n",
              "    <tr style=\"text-align: right;\">\n",
              "      <th></th>\n",
              "      <th>yes</th>\n",
              "      <th>no</th>\n",
              "      <th>up</th>\n",
              "      <th>down</th>\n",
              "      <th>left</th>\n",
              "      <th>right</th>\n",
              "      <th>on</th>\n",
              "      <th>off</th>\n",
              "      <th>stop</th>\n",
              "      <th>go</th>\n",
              "      <th>uknown</th>\n",
              "      <th>silence</th>\n",
              "    </tr>\n",
              "  </thead>\n",
              "  <tbody>\n",
              "    <tr>\n",
              "      <th>yes</th>\n",
              "      <td>213</td>\n",
              "      <td>2</td>\n",
              "      <td>0</td>\n",
              "      <td>1</td>\n",
              "      <td>2</td>\n",
              "      <td>1</td>\n",
              "      <td>1</td>\n",
              "      <td>0</td>\n",
              "      <td>0</td>\n",
              "      <td>2</td>\n",
              "      <td>9</td>\n",
              "      <td>1</td>\n",
              "    </tr>\n",
              "    <tr>\n",
              "      <th>no</th>\n",
              "      <td>6</td>\n",
              "      <td>211</td>\n",
              "      <td>1</td>\n",
              "      <td>1</td>\n",
              "      <td>0</td>\n",
              "      <td>0</td>\n",
              "      <td>0</td>\n",
              "      <td>1</td>\n",
              "      <td>0</td>\n",
              "      <td>11</td>\n",
              "      <td>4</td>\n",
              "      <td>0</td>\n",
              "    </tr>\n",
              "    <tr>\n",
              "      <th>up</th>\n",
              "      <td>0</td>\n",
              "      <td>0</td>\n",
              "      <td>191</td>\n",
              "      <td>0</td>\n",
              "      <td>1</td>\n",
              "      <td>1</td>\n",
              "      <td>3</td>\n",
              "      <td>12</td>\n",
              "      <td>2</td>\n",
              "      <td>3</td>\n",
              "      <td>8</td>\n",
              "      <td>0</td>\n",
              "    </tr>\n",
              "    <tr>\n",
              "      <th>down</th>\n",
              "      <td>2</td>\n",
              "      <td>6</td>\n",
              "      <td>0</td>\n",
              "      <td>229</td>\n",
              "      <td>0</td>\n",
              "      <td>0</td>\n",
              "      <td>1</td>\n",
              "      <td>1</td>\n",
              "      <td>3</td>\n",
              "      <td>3</td>\n",
              "      <td>2</td>\n",
              "      <td>0</td>\n",
              "    </tr>\n",
              "    <tr>\n",
              "      <th>left</th>\n",
              "      <td>21</td>\n",
              "      <td>0</td>\n",
              "      <td>0</td>\n",
              "      <td>0</td>\n",
              "      <td>205</td>\n",
              "      <td>1</td>\n",
              "      <td>0</td>\n",
              "      <td>1</td>\n",
              "      <td>0</td>\n",
              "      <td>2</td>\n",
              "      <td>3</td>\n",
              "      <td>0</td>\n",
              "    </tr>\n",
              "    <tr>\n",
              "      <th>right</th>\n",
              "      <td>0</td>\n",
              "      <td>0</td>\n",
              "      <td>2</td>\n",
              "      <td>0</td>\n",
              "      <td>7</td>\n",
              "      <td>217</td>\n",
              "      <td>1</td>\n",
              "      <td>0</td>\n",
              "      <td>0</td>\n",
              "      <td>0</td>\n",
              "      <td>8</td>\n",
              "      <td>0</td>\n",
              "    </tr>\n",
              "    <tr>\n",
              "      <th>on</th>\n",
              "      <td>0</td>\n",
              "      <td>2</td>\n",
              "      <td>2</td>\n",
              "      <td>0</td>\n",
              "      <td>0</td>\n",
              "      <td>2</td>\n",
              "      <td>221</td>\n",
              "      <td>3</td>\n",
              "      <td>1</td>\n",
              "      <td>1</td>\n",
              "      <td>0</td>\n",
              "      <td>2</td>\n",
              "    </tr>\n",
              "    <tr>\n",
              "      <th>off</th>\n",
              "      <td>0</td>\n",
              "      <td>0</td>\n",
              "      <td>6</td>\n",
              "      <td>0</td>\n",
              "      <td>0</td>\n",
              "      <td>0</td>\n",
              "      <td>4</td>\n",
              "      <td>214</td>\n",
              "      <td>1</td>\n",
              "      <td>3</td>\n",
              "      <td>4</td>\n",
              "      <td>0</td>\n",
              "    </tr>\n",
              "    <tr>\n",
              "      <th>stop</th>\n",
              "      <td>0</td>\n",
              "      <td>2</td>\n",
              "      <td>5</td>\n",
              "      <td>1</td>\n",
              "      <td>3</td>\n",
              "      <td>0</td>\n",
              "      <td>0</td>\n",
              "      <td>4</td>\n",
              "      <td>205</td>\n",
              "      <td>0</td>\n",
              "      <td>5</td>\n",
              "      <td>0</td>\n",
              "    </tr>\n",
              "    <tr>\n",
              "      <th>go</th>\n",
              "      <td>0</td>\n",
              "      <td>12</td>\n",
              "      <td>1</td>\n",
              "      <td>4</td>\n",
              "      <td>0</td>\n",
              "      <td>2</td>\n",
              "      <td>2</td>\n",
              "      <td>4</td>\n",
              "      <td>1</td>\n",
              "      <td>193</td>\n",
              "      <td>10</td>\n",
              "      <td>2</td>\n",
              "    </tr>\n",
              "    <tr>\n",
              "      <th>uknown</th>\n",
              "      <td>51</td>\n",
              "      <td>34</td>\n",
              "      <td>28</td>\n",
              "      <td>34</td>\n",
              "      <td>58</td>\n",
              "      <td>61</td>\n",
              "      <td>92</td>\n",
              "      <td>22</td>\n",
              "      <td>43</td>\n",
              "      <td>70</td>\n",
              "      <td>3309</td>\n",
              "      <td>10</td>\n",
              "    </tr>\n",
              "  </tbody>\n",
              "</table>\n",
              "</div>\n",
              "      <button class=\"colab-df-convert\" onclick=\"convertToInteractive('df-dc41333d-5687-48fa-bc98-af3283e73fa8')\"\n",
              "              title=\"Convert this dataframe to an interactive table.\"\n",
              "              style=\"display:none;\">\n",
              "        \n",
              "  <svg xmlns=\"http://www.w3.org/2000/svg\" height=\"24px\"viewBox=\"0 0 24 24\"\n",
              "       width=\"24px\">\n",
              "    <path d=\"M0 0h24v24H0V0z\" fill=\"none\"/>\n",
              "    <path d=\"M18.56 5.44l.94 2.06.94-2.06 2.06-.94-2.06-.94-.94-2.06-.94 2.06-2.06.94zm-11 1L8.5 8.5l.94-2.06 2.06-.94-2.06-.94L8.5 2.5l-.94 2.06-2.06.94zm10 10l.94 2.06.94-2.06 2.06-.94-2.06-.94-.94-2.06-.94 2.06-2.06.94z\"/><path d=\"M17.41 7.96l-1.37-1.37c-.4-.4-.92-.59-1.43-.59-.52 0-1.04.2-1.43.59L10.3 9.45l-7.72 7.72c-.78.78-.78 2.05 0 2.83L4 21.41c.39.39.9.59 1.41.59.51 0 1.02-.2 1.41-.59l7.78-7.78 2.81-2.81c.8-.78.8-2.07 0-2.86zM5.41 20L4 18.59l7.72-7.72 1.47 1.35L5.41 20z\"/>\n",
              "  </svg>\n",
              "      </button>\n",
              "      \n",
              "  <style>\n",
              "    .colab-df-container {\n",
              "      display:flex;\n",
              "      flex-wrap:wrap;\n",
              "      gap: 12px;\n",
              "    }\n",
              "\n",
              "    .colab-df-convert {\n",
              "      background-color: #E8F0FE;\n",
              "      border: none;\n",
              "      border-radius: 50%;\n",
              "      cursor: pointer;\n",
              "      display: none;\n",
              "      fill: #1967D2;\n",
              "      height: 32px;\n",
              "      padding: 0 0 0 0;\n",
              "      width: 32px;\n",
              "    }\n",
              "\n",
              "    .colab-df-convert:hover {\n",
              "      background-color: #E2EBFA;\n",
              "      box-shadow: 0px 1px 2px rgba(60, 64, 67, 0.3), 0px 1px 3px 1px rgba(60, 64, 67, 0.15);\n",
              "      fill: #174EA6;\n",
              "    }\n",
              "\n",
              "    [theme=dark] .colab-df-convert {\n",
              "      background-color: #3B4455;\n",
              "      fill: #D2E3FC;\n",
              "    }\n",
              "\n",
              "    [theme=dark] .colab-df-convert:hover {\n",
              "      background-color: #434B5C;\n",
              "      box-shadow: 0px 1px 3px 1px rgba(0, 0, 0, 0.15);\n",
              "      filter: drop-shadow(0px 1px 2px rgba(0, 0, 0, 0.3));\n",
              "      fill: #FFFFFF;\n",
              "    }\n",
              "  </style>\n",
              "\n",
              "      <script>\n",
              "        const buttonEl =\n",
              "          document.querySelector('#df-dc41333d-5687-48fa-bc98-af3283e73fa8 button.colab-df-convert');\n",
              "        buttonEl.style.display =\n",
              "          google.colab.kernel.accessAllowed ? 'block' : 'none';\n",
              "\n",
              "        async function convertToInteractive(key) {\n",
              "          const element = document.querySelector('#df-dc41333d-5687-48fa-bc98-af3283e73fa8');\n",
              "          const dataTable =\n",
              "            await google.colab.kernel.invokeFunction('convertToInteractive',\n",
              "                                                     [key], {});\n",
              "          if (!dataTable) return;\n",
              "\n",
              "          const docLinkHtml = 'Like what you see? Visit the ' +\n",
              "            '<a target=\"_blank\" href=https://colab.research.google.com/notebooks/data_table.ipynb>data table notebook</a>'\n",
              "            + ' to learn more about interactive tables.';\n",
              "          element.innerHTML = '';\n",
              "          dataTable['output_type'] = 'display_data';\n",
              "          await google.colab.output.renderOutput(dataTable, element);\n",
              "          const docLink = document.createElement('div');\n",
              "          docLink.innerHTML = docLinkHtml;\n",
              "          element.appendChild(docLink);\n",
              "        }\n",
              "      </script>\n",
              "    </div>\n",
              "  </div>\n",
              "  "
            ],
            "text/plain": [
              "        yes   no   up  down  left  right   on  off  stop   go  uknown  silence\n",
              "yes     213    2    0     1     2      1    1    0     0    2       9        1\n",
              "no        6  211    1     1     0      0    0    1     0   11       4        0\n",
              "up        0    0  191     0     1      1    3   12     2    3       8        0\n",
              "down      2    6    0   229     0      0    1    1     3    3       2        0\n",
              "left     21    0    0     0   205      1    0    1     0    2       3        0\n",
              "right     0    0    2     0     7    217    1    0     0    0       8        0\n",
              "on        0    2    2     0     0      2  221    3     1    1       0        2\n",
              "off       0    0    6     0     0      0    4  214     1    3       4        0\n",
              "stop      0    2    5     1     3      0    0    4   205    0       5        0\n",
              "go        0   12    1     4     0      2    2    4     1  193      10        2\n",
              "uknown   51   34   28    34    58     61   92   22    43   70    3309       10"
            ]
          },
          "execution_count": 119,
          "metadata": {},
          "output_type": "execute_result"
        }
      ],
      "source": [
        "df = pd.crosstab(y_v, pred_label, colnames=['prediction'], rownames = ['truth'])\n",
        "df.columns = ['yes', 'no', 'up', 'down', 'left', 'right', 'on', 'off', 'stop', 'go', 'uknown', 'silence']\n",
        "df.index = ['yes', 'no', 'up', 'down', 'left', 'right', 'on', 'off', 'stop', 'go', 'uknown']\n",
        "df"
      ]
    },
    {
      "cell_type": "code",
      "execution_count": 113,
      "metadata": {
        "id": "-4ZVfyfGEVEl"
      },
      "outputs": [],
      "source": [
        "from seaborn import heatmap"
      ]
    },
    {
      "cell_type": "code",
      "execution_count": 148,
      "metadata": {
        "id": "j5QgQ7CkQmw7"
      },
      "outputs": [],
      "source": [
        "df1 =df.iloc[:,:-1]\n",
        "#np.matrix(df1)-np.dot(np.diag(np.matrix(df1)),np.identity(11))\n",
        "df2 = pd.DataFrame(np.matrix(df1)-np.diag(np.diag(np.matrix(df1))))\n",
        "df2.columns = ['yes', 'no', 'up', 'down', 'left', 'right', 'on', 'off', 'stop', 'go', 'uknown']\n",
        "df2.index = ['yes', 'no', 'up', 'down', 'left', 'right', 'on', 'off', 'stop', 'go', 'uknown']\n",
        "df2['silence'] = df.iloc[:,-1]\n"
      ]
    },
    {
      "cell_type": "code",
      "execution_count": 149,
      "metadata": {
        "colab": {
          "base_uri": "https://localhost:8080/",
          "height": 394
        },
        "id": "mPAZulFmEcoI",
        "outputId": "f912336a-3412-4461-9731-fa3c0d45aa45"
      },
      "outputs": [
        {
          "data": {
            "text/html": [
              "\n",
              "  <div id=\"df-9f6b4fe5-716b-4de2-863a-54478d669a3a\">\n",
              "    <div class=\"colab-df-container\">\n",
              "      <div>\n",
              "<style scoped>\n",
              "    .dataframe tbody tr th:only-of-type {\n",
              "        vertical-align: middle;\n",
              "    }\n",
              "\n",
              "    .dataframe tbody tr th {\n",
              "        vertical-align: top;\n",
              "    }\n",
              "\n",
              "    .dataframe thead th {\n",
              "        text-align: right;\n",
              "    }\n",
              "</style>\n",
              "<table border=\"1\" class=\"dataframe\">\n",
              "  <thead>\n",
              "    <tr style=\"text-align: right;\">\n",
              "      <th></th>\n",
              "      <th>yes</th>\n",
              "      <th>no</th>\n",
              "      <th>up</th>\n",
              "      <th>down</th>\n",
              "      <th>left</th>\n",
              "      <th>right</th>\n",
              "      <th>on</th>\n",
              "      <th>off</th>\n",
              "      <th>stop</th>\n",
              "      <th>go</th>\n",
              "      <th>uknown</th>\n",
              "      <th>silence</th>\n",
              "    </tr>\n",
              "  </thead>\n",
              "  <tbody>\n",
              "    <tr>\n",
              "      <th>yes</th>\n",
              "      <td>0</td>\n",
              "      <td>2</td>\n",
              "      <td>0</td>\n",
              "      <td>1</td>\n",
              "      <td>2</td>\n",
              "      <td>1</td>\n",
              "      <td>1</td>\n",
              "      <td>0</td>\n",
              "      <td>0</td>\n",
              "      <td>2</td>\n",
              "      <td>9</td>\n",
              "      <td>1</td>\n",
              "    </tr>\n",
              "    <tr>\n",
              "      <th>no</th>\n",
              "      <td>6</td>\n",
              "      <td>0</td>\n",
              "      <td>1</td>\n",
              "      <td>1</td>\n",
              "      <td>0</td>\n",
              "      <td>0</td>\n",
              "      <td>0</td>\n",
              "      <td>1</td>\n",
              "      <td>0</td>\n",
              "      <td>11</td>\n",
              "      <td>4</td>\n",
              "      <td>0</td>\n",
              "    </tr>\n",
              "    <tr>\n",
              "      <th>up</th>\n",
              "      <td>0</td>\n",
              "      <td>0</td>\n",
              "      <td>0</td>\n",
              "      <td>0</td>\n",
              "      <td>1</td>\n",
              "      <td>1</td>\n",
              "      <td>3</td>\n",
              "      <td>12</td>\n",
              "      <td>2</td>\n",
              "      <td>3</td>\n",
              "      <td>8</td>\n",
              "      <td>0</td>\n",
              "    </tr>\n",
              "    <tr>\n",
              "      <th>down</th>\n",
              "      <td>2</td>\n",
              "      <td>6</td>\n",
              "      <td>0</td>\n",
              "      <td>0</td>\n",
              "      <td>0</td>\n",
              "      <td>0</td>\n",
              "      <td>1</td>\n",
              "      <td>1</td>\n",
              "      <td>3</td>\n",
              "      <td>3</td>\n",
              "      <td>2</td>\n",
              "      <td>0</td>\n",
              "    </tr>\n",
              "    <tr>\n",
              "      <th>left</th>\n",
              "      <td>21</td>\n",
              "      <td>0</td>\n",
              "      <td>0</td>\n",
              "      <td>0</td>\n",
              "      <td>0</td>\n",
              "      <td>1</td>\n",
              "      <td>0</td>\n",
              "      <td>1</td>\n",
              "      <td>0</td>\n",
              "      <td>2</td>\n",
              "      <td>3</td>\n",
              "      <td>0</td>\n",
              "    </tr>\n",
              "    <tr>\n",
              "      <th>right</th>\n",
              "      <td>0</td>\n",
              "      <td>0</td>\n",
              "      <td>2</td>\n",
              "      <td>0</td>\n",
              "      <td>7</td>\n",
              "      <td>0</td>\n",
              "      <td>1</td>\n",
              "      <td>0</td>\n",
              "      <td>0</td>\n",
              "      <td>0</td>\n",
              "      <td>8</td>\n",
              "      <td>0</td>\n",
              "    </tr>\n",
              "    <tr>\n",
              "      <th>on</th>\n",
              "      <td>0</td>\n",
              "      <td>2</td>\n",
              "      <td>2</td>\n",
              "      <td>0</td>\n",
              "      <td>0</td>\n",
              "      <td>2</td>\n",
              "      <td>0</td>\n",
              "      <td>3</td>\n",
              "      <td>1</td>\n",
              "      <td>1</td>\n",
              "      <td>0</td>\n",
              "      <td>2</td>\n",
              "    </tr>\n",
              "    <tr>\n",
              "      <th>off</th>\n",
              "      <td>0</td>\n",
              "      <td>0</td>\n",
              "      <td>6</td>\n",
              "      <td>0</td>\n",
              "      <td>0</td>\n",
              "      <td>0</td>\n",
              "      <td>4</td>\n",
              "      <td>0</td>\n",
              "      <td>1</td>\n",
              "      <td>3</td>\n",
              "      <td>4</td>\n",
              "      <td>0</td>\n",
              "    </tr>\n",
              "    <tr>\n",
              "      <th>stop</th>\n",
              "      <td>0</td>\n",
              "      <td>2</td>\n",
              "      <td>5</td>\n",
              "      <td>1</td>\n",
              "      <td>3</td>\n",
              "      <td>0</td>\n",
              "      <td>0</td>\n",
              "      <td>4</td>\n",
              "      <td>0</td>\n",
              "      <td>0</td>\n",
              "      <td>5</td>\n",
              "      <td>0</td>\n",
              "    </tr>\n",
              "    <tr>\n",
              "      <th>go</th>\n",
              "      <td>0</td>\n",
              "      <td>12</td>\n",
              "      <td>1</td>\n",
              "      <td>4</td>\n",
              "      <td>0</td>\n",
              "      <td>2</td>\n",
              "      <td>2</td>\n",
              "      <td>4</td>\n",
              "      <td>1</td>\n",
              "      <td>0</td>\n",
              "      <td>10</td>\n",
              "      <td>2</td>\n",
              "    </tr>\n",
              "    <tr>\n",
              "      <th>uknown</th>\n",
              "      <td>51</td>\n",
              "      <td>34</td>\n",
              "      <td>28</td>\n",
              "      <td>34</td>\n",
              "      <td>58</td>\n",
              "      <td>61</td>\n",
              "      <td>92</td>\n",
              "      <td>22</td>\n",
              "      <td>43</td>\n",
              "      <td>70</td>\n",
              "      <td>0</td>\n",
              "      <td>10</td>\n",
              "    </tr>\n",
              "  </tbody>\n",
              "</table>\n",
              "</div>\n",
              "      <button class=\"colab-df-convert\" onclick=\"convertToInteractive('df-9f6b4fe5-716b-4de2-863a-54478d669a3a')\"\n",
              "              title=\"Convert this dataframe to an interactive table.\"\n",
              "              style=\"display:none;\">\n",
              "        \n",
              "  <svg xmlns=\"http://www.w3.org/2000/svg\" height=\"24px\"viewBox=\"0 0 24 24\"\n",
              "       width=\"24px\">\n",
              "    <path d=\"M0 0h24v24H0V0z\" fill=\"none\"/>\n",
              "    <path d=\"M18.56 5.44l.94 2.06.94-2.06 2.06-.94-2.06-.94-.94-2.06-.94 2.06-2.06.94zm-11 1L8.5 8.5l.94-2.06 2.06-.94-2.06-.94L8.5 2.5l-.94 2.06-2.06.94zm10 10l.94 2.06.94-2.06 2.06-.94-2.06-.94-.94-2.06-.94 2.06-2.06.94z\"/><path d=\"M17.41 7.96l-1.37-1.37c-.4-.4-.92-.59-1.43-.59-.52 0-1.04.2-1.43.59L10.3 9.45l-7.72 7.72c-.78.78-.78 2.05 0 2.83L4 21.41c.39.39.9.59 1.41.59.51 0 1.02-.2 1.41-.59l7.78-7.78 2.81-2.81c.8-.78.8-2.07 0-2.86zM5.41 20L4 18.59l7.72-7.72 1.47 1.35L5.41 20z\"/>\n",
              "  </svg>\n",
              "      </button>\n",
              "      \n",
              "  <style>\n",
              "    .colab-df-container {\n",
              "      display:flex;\n",
              "      flex-wrap:wrap;\n",
              "      gap: 12px;\n",
              "    }\n",
              "\n",
              "    .colab-df-convert {\n",
              "      background-color: #E8F0FE;\n",
              "      border: none;\n",
              "      border-radius: 50%;\n",
              "      cursor: pointer;\n",
              "      display: none;\n",
              "      fill: #1967D2;\n",
              "      height: 32px;\n",
              "      padding: 0 0 0 0;\n",
              "      width: 32px;\n",
              "    }\n",
              "\n",
              "    .colab-df-convert:hover {\n",
              "      background-color: #E2EBFA;\n",
              "      box-shadow: 0px 1px 2px rgba(60, 64, 67, 0.3), 0px 1px 3px 1px rgba(60, 64, 67, 0.15);\n",
              "      fill: #174EA6;\n",
              "    }\n",
              "\n",
              "    [theme=dark] .colab-df-convert {\n",
              "      background-color: #3B4455;\n",
              "      fill: #D2E3FC;\n",
              "    }\n",
              "\n",
              "    [theme=dark] .colab-df-convert:hover {\n",
              "      background-color: #434B5C;\n",
              "      box-shadow: 0px 1px 3px 1px rgba(0, 0, 0, 0.15);\n",
              "      filter: drop-shadow(0px 1px 2px rgba(0, 0, 0, 0.3));\n",
              "      fill: #FFFFFF;\n",
              "    }\n",
              "  </style>\n",
              "\n",
              "      <script>\n",
              "        const buttonEl =\n",
              "          document.querySelector('#df-9f6b4fe5-716b-4de2-863a-54478d669a3a button.colab-df-convert');\n",
              "        buttonEl.style.display =\n",
              "          google.colab.kernel.accessAllowed ? 'block' : 'none';\n",
              "\n",
              "        async function convertToInteractive(key) {\n",
              "          const element = document.querySelector('#df-9f6b4fe5-716b-4de2-863a-54478d669a3a');\n",
              "          const dataTable =\n",
              "            await google.colab.kernel.invokeFunction('convertToInteractive',\n",
              "                                                     [key], {});\n",
              "          if (!dataTable) return;\n",
              "\n",
              "          const docLinkHtml = 'Like what you see? Visit the ' +\n",
              "            '<a target=\"_blank\" href=https://colab.research.google.com/notebooks/data_table.ipynb>data table notebook</a>'\n",
              "            + ' to learn more about interactive tables.';\n",
              "          element.innerHTML = '';\n",
              "          dataTable['output_type'] = 'display_data';\n",
              "          await google.colab.output.renderOutput(dataTable, element);\n",
              "          const docLink = document.createElement('div');\n",
              "          docLink.innerHTML = docLinkHtml;\n",
              "          element.appendChild(docLink);\n",
              "        }\n",
              "      </script>\n",
              "    </div>\n",
              "  </div>\n",
              "  "
            ],
            "text/plain": [
              "        yes  no  up  down  left  right  on  off  stop  go  uknown  silence\n",
              "yes       0   2   0     1     2      1   1    0     0   2       9        1\n",
              "no        6   0   1     1     0      0   0    1     0  11       4        0\n",
              "up        0   0   0     0     1      1   3   12     2   3       8        0\n",
              "down      2   6   0     0     0      0   1    1     3   3       2        0\n",
              "left     21   0   0     0     0      1   0    1     0   2       3        0\n",
              "right     0   0   2     0     7      0   1    0     0   0       8        0\n",
              "on        0   2   2     0     0      2   0    3     1   1       0        2\n",
              "off       0   0   6     0     0      0   4    0     1   3       4        0\n",
              "stop      0   2   5     1     3      0   0    4     0   0       5        0\n",
              "go        0  12   1     4     0      2   2    4     1   0      10        2\n",
              "uknown   51  34  28    34    58     61  92   22    43  70       0       10"
            ]
          },
          "execution_count": 149,
          "metadata": {},
          "output_type": "execute_result"
        }
      ],
      "source": [
        "df2"
      ]
    },
    {
      "cell_type": "code",
      "execution_count": 151,
      "metadata": {
        "colab": {
          "base_uri": "https://localhost:8080/",
          "height": 488
        },
        "id": "DHY42Tg4T2Tj",
        "outputId": "9295a07e-4d0e-42b4-b3e5-9b7d789acc30"
      },
      "outputs": [
        {
          "data": {
            "text/plain": [
              "<Axes: >"
            ]
          },
          "execution_count": 151,
          "metadata": {},
          "output_type": "execute_result"
        },
        {
          "data": {
            "image/png": "[encoded data removed]",
            "text/plain": [
              "<Figure size 640x480 with 2 Axes>"
            ]
          },
          "metadata": {},
          "output_type": "display_data"
        }
      ],
      "source": [
        "heatmap(df2, cmap=\"crest\", annot=True)"
      ]
    }
  ],
  "metadata": {
    "accelerator": "GPU",
    "colab": {
      "collapsed_sections": [
        "Si2Uk1xlJmqZ"
      ],
      "include_colab_link": true,
      "provenance": []
    },
    "gpuClass": "standard",
    "kernelspec": {
      "display_name": "Python 3",
      "name": "python3"
    },
    "language_info": {
      "name": "python"
    }
  },
  "nbformat": 4,
  "nbformat_minor": 0
}
