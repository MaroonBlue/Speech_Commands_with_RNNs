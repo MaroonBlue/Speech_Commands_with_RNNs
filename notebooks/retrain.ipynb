{
 "cells": [
  {
   "cell_type": "markdown",
   "metadata": {},
   "source": [
    "## Cloning repository"
   ]
  },
  {
   "cell_type": "code",
   "execution_count": null,
   "metadata": {},
   "outputs": [],
   "source": [
    "%cd /content/\n",
    "!rm -r ./Speech_Commands_with_RNNs/\n",
    "!git clone https://github.com/MaroonBlue/Speech_Commands_with_RNNs.git\n",
    "%cd Speech_Commands_with_RNNs/"
   ]
  },
  {
   "cell_type": "markdown",
   "metadata": {},
   "source": [
    "## Installing packages"
   ]
  },
  {
   "cell_type": "code",
   "execution_count": null,
   "metadata": {},
   "outputs": [],
   "source": [
    "!pip install -r requirements.txt\n",
    "!pip install -U -q tensorflow tensorflow_datasets"
   ]
  },
  {
   "cell_type": "markdown",
   "metadata": {},
   "source": [
    "# Downloading dataset"
   ]
  },
  {
   "cell_type": "markdown",
   "metadata": {},
   "source": [
    "## Download form URL"
   ]
  },
  {
   "cell_type": "code",
   "execution_count": null,
   "metadata": {},
   "outputs": [],
   "source": [
    "!python utils/download_dataset.py"
   ]
  },
  {
   "cell_type": "code",
   "execution_count": null,
   "metadata": {},
   "outputs": [],
   "source": [
    "!python utils/download_test_dataset.py"
   ]
  },
  {
   "cell_type": "code",
   "execution_count": null,
   "metadata": {},
   "outputs": [],
   "source": [
    "!python ./utils/dataset.py"
   ]
  },
  {
   "cell_type": "code",
   "execution_count": null,
   "metadata": {},
   "outputs": [],
   "source": [
    "!cp ./saved_data/X_t.npy ../X_t.npy\n",
    "!cp ./saved_data/y_t.npy ../y_t.npy\n",
    "!cp ./saved_data/X_v.npy ../X_v.npy\n",
    "!cp ./saved_data/y_v.npy ../y_v.npy\n",
    "!cp ./saved_data/X_test.npy ../X_test.npy\n",
    "!cp ./saved_data/y_test.npy ../y_test.npy"
   ]
  },
  {
   "cell_type": "code",
   "execution_count": null,
   "metadata": {},
   "outputs": [],
   "source": [
    "!cp ../X_t.npy ./saved_data/X_t.npy\n",
    "!cp ../y_t.npy ./saved_data/y_t.npy\n",
    "!cp ../X_v.npy ./saved_data/X_v.npy\n",
    "!cp ../y_v.npy ./saved_data/y_v.npy\n",
    "!cp ../X_test.npy ./saved_data/X_test.npy\n",
    "!cp ../y_test.npy ./saved_data/y_test.npy"
   ]
  }
 ],
 "metadata": {
  "language_info": {
   "name": "python"
  },
  "orig_nbformat": 4
 },
 "nbformat": 4,
 "nbformat_minor": 2
}
